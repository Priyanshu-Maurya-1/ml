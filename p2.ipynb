{
 "cells": [
  {
   "cell_type": "code",
   "execution_count": 17,
   "metadata": {},
   "outputs": [],
   "source": [
    "import pandas as pd\n",
    "import matplotlib.pyplot as plt\n",
    "import seaborn as sns"
   ]
  },
  {
   "cell_type": "code",
   "execution_count": 2,
   "metadata": {},
   "outputs": [],
   "source": [
    "df=pd.read_csv('education_expenditure_supplementary_data.csv',engine='python')"
   ]
  },
  {
   "cell_type": "code",
   "execution_count": 3,
   "metadata": {
    "scrolled": true
   },
   "outputs": [
    {
     "data": {
      "text/html": [
       "<div>\n",
       "<style scoped>\n",
       "    .dataframe tbody tr th:only-of-type {\n",
       "        vertical-align: middle;\n",
       "    }\n",
       "\n",
       "    .dataframe tbody tr th {\n",
       "        vertical-align: top;\n",
       "    }\n",
       "\n",
       "    .dataframe thead th {\n",
       "        text-align: right;\n",
       "    }\n",
       "</style>\n",
       "<table border=\"1\" class=\"dataframe\">\n",
       "  <thead>\n",
       "    <tr style=\"text-align: right;\">\n",
       "      <th></th>\n",
       "      <th>country</th>\n",
       "      <th>institute_type</th>\n",
       "      <th>direct_expenditure_type</th>\n",
       "      <th>1995</th>\n",
       "      <th>2000</th>\n",
       "      <th>2005</th>\n",
       "      <th>2009</th>\n",
       "      <th>2010</th>\n",
       "      <th>2011</th>\n",
       "    </tr>\n",
       "  </thead>\n",
       "  <tbody>\n",
       "    <tr>\n",
       "      <th>0</th>\n",
       "      <td>OECD Average</td>\n",
       "      <td>All Institutions</td>\n",
       "      <td>Public</td>\n",
       "      <td>4.9</td>\n",
       "      <td>4.9</td>\n",
       "      <td>5.0</td>\n",
       "      <td>5.4</td>\n",
       "      <td>5.4</td>\n",
       "      <td>5.3</td>\n",
       "    </tr>\n",
       "    <tr>\n",
       "      <th>1</th>\n",
       "      <td>Australia</td>\n",
       "      <td>All Institutions</td>\n",
       "      <td>Public</td>\n",
       "      <td>4.5</td>\n",
       "      <td>4.6</td>\n",
       "      <td>4.3</td>\n",
       "      <td>4.5</td>\n",
       "      <td>4.6</td>\n",
       "      <td>4.3</td>\n",
       "    </tr>\n",
       "    <tr>\n",
       "      <th>2</th>\n",
       "      <td>Austria</td>\n",
       "      <td>All Institutions</td>\n",
       "      <td>Public</td>\n",
       "      <td>5.3</td>\n",
       "      <td>5.4</td>\n",
       "      <td>5.2</td>\n",
       "      <td>5.7</td>\n",
       "      <td>5.6</td>\n",
       "      <td>5.5</td>\n",
       "    </tr>\n",
       "    <tr>\n",
       "      <th>3</th>\n",
       "      <td>Belgium</td>\n",
       "      <td>All Institutions</td>\n",
       "      <td>Public</td>\n",
       "      <td>5.0</td>\n",
       "      <td>5.1</td>\n",
       "      <td>5.8</td>\n",
       "      <td>6.4</td>\n",
       "      <td>6.4</td>\n",
       "      <td>6.4</td>\n",
       "    </tr>\n",
       "    <tr>\n",
       "      <th>6</th>\n",
       "      <td>Czech Republic</td>\n",
       "      <td>All Institutions</td>\n",
       "      <td>Public</td>\n",
       "      <td>4.8</td>\n",
       "      <td>4.2</td>\n",
       "      <td>4.1</td>\n",
       "      <td>4.2</td>\n",
       "      <td>4.1</td>\n",
       "      <td>4.4</td>\n",
       "    </tr>\n",
       "    <tr>\n",
       "      <th>...</th>\n",
       "      <td>...</td>\n",
       "      <td>...</td>\n",
       "      <td>...</td>\n",
       "      <td>...</td>\n",
       "      <td>...</td>\n",
       "      <td>...</td>\n",
       "      <td>...</td>\n",
       "      <td>...</td>\n",
       "      <td>...</td>\n",
       "    </tr>\n",
       "    <tr>\n",
       "      <th>104</th>\n",
       "      <td>Sweden</td>\n",
       "      <td>Higher Education Institutions</td>\n",
       "      <td>Public</td>\n",
       "      <td>1.6</td>\n",
       "      <td>1.5</td>\n",
       "      <td>1.5</td>\n",
       "      <td>1.6</td>\n",
       "      <td>1.6</td>\n",
       "      <td>1.6</td>\n",
       "    </tr>\n",
       "    <tr>\n",
       "      <th>105</th>\n",
       "      <td>Switzerland</td>\n",
       "      <td>Higher Education Institutions</td>\n",
       "      <td>Public</td>\n",
       "      <td>1.1</td>\n",
       "      <td>1.2</td>\n",
       "      <td>1.4</td>\n",
       "      <td>1.4</td>\n",
       "      <td>1.3</td>\n",
       "      <td>1.3</td>\n",
       "    </tr>\n",
       "    <tr>\n",
       "      <th>107</th>\n",
       "      <td>United Kingdom</td>\n",
       "      <td>Higher Education Institutions</td>\n",
       "      <td>Public</td>\n",
       "      <td>0.7</td>\n",
       "      <td>0.7</td>\n",
       "      <td>0.9</td>\n",
       "      <td>0.6</td>\n",
       "      <td>0.7</td>\n",
       "      <td>0.9</td>\n",
       "    </tr>\n",
       "    <tr>\n",
       "      <th>108</th>\n",
       "      <td>United States</td>\n",
       "      <td>Higher Education Institutions</td>\n",
       "      <td>Public</td>\n",
       "      <td>1.1</td>\n",
       "      <td>0.8</td>\n",
       "      <td>1.0</td>\n",
       "      <td>1.1</td>\n",
       "      <td>1.0</td>\n",
       "      <td>0.9</td>\n",
       "    </tr>\n",
       "    <tr>\n",
       "      <th>110</th>\n",
       "      <td>Russian Federation</td>\n",
       "      <td>Higher Education Institutions</td>\n",
       "      <td>Public</td>\n",
       "      <td>0.7</td>\n",
       "      <td>0.5</td>\n",
       "      <td>0.8</td>\n",
       "      <td>1.2</td>\n",
       "      <td>1.0</td>\n",
       "      <td>0.9</td>\n",
       "    </tr>\n",
       "  </tbody>\n",
       "</table>\n",
       "<p>79 rows × 9 columns</p>\n",
       "</div>"
      ],
      "text/plain": [
       "                  country                  institute_type  \\\n",
       "0            OECD Average               All Institutions    \n",
       "1               Australia               All Institutions    \n",
       "2                 Austria               All Institutions    \n",
       "3                 Belgium               All Institutions    \n",
       "6          Czech Republic               All Institutions    \n",
       "..                    ...                             ...   \n",
       "104                Sweden  Higher Education Institutions    \n",
       "105           Switzerland  Higher Education Institutions    \n",
       "107        United Kingdom  Higher Education Institutions    \n",
       "108         United States  Higher Education Institutions    \n",
       "110    Russian Federation  Higher Education Institutions    \n",
       "\n",
       "    direct_expenditure_type  1995  2000  2005  2009  2010  2011  \n",
       "0                    Public   4.9   4.9   5.0   5.4   5.4   5.3  \n",
       "1                    Public   4.5   4.6   4.3   4.5   4.6   4.3  \n",
       "2                    Public   5.3   5.4   5.2   5.7   5.6   5.5  \n",
       "3                    Public   5.0   5.1   5.8   6.4   6.4   6.4  \n",
       "6                    Public   4.8   4.2   4.1   4.2   4.1   4.4  \n",
       "..                      ...   ...   ...   ...   ...   ...   ...  \n",
       "104                  Public   1.6   1.5   1.5   1.6   1.6   1.6  \n",
       "105                  Public   1.1   1.2   1.4   1.4   1.3   1.3  \n",
       "107                  Public   0.7   0.7   0.9   0.6   0.7   0.9  \n",
       "108                  Public   1.1   0.8   1.0   1.1   1.0   0.9  \n",
       "110                  Public   0.7   0.5   0.8   1.2   1.0   0.9  \n",
       "\n",
       "[79 rows x 9 columns]"
      ]
     },
     "execution_count": 3,
     "metadata": {},
     "output_type": "execute_result"
    }
   ],
   "source": [
    "df.dropna()"
   ]
  },
  {
   "cell_type": "code",
   "execution_count": 4,
   "metadata": {
    "scrolled": true
   },
   "outputs": [
    {
     "name": "stderr",
     "output_type": "stream",
     "text": [
      "C:\\Users\\princ\\AppData\\Local\\Temp/ipykernel_6792/3725003345.py:1: FutureWarning: Dropping of nuisance columns in DataFrame reductions (with 'numeric_only=None') is deprecated; in a future version this will raise TypeError.  Select only valid columns before calling the reduction.\n",
      "  df1=df.fillna(df.mean())\n"
     ]
    }
   ],
   "source": [
    "df1=df.fillna(df.mean())"
   ]
  },
  {
   "cell_type": "code",
   "execution_count": 5,
   "metadata": {
    "scrolled": false
   },
   "outputs": [
    {
     "data": {
      "text/html": [
       "<div>\n",
       "<style scoped>\n",
       "    .dataframe tbody tr th:only-of-type {\n",
       "        vertical-align: middle;\n",
       "    }\n",
       "\n",
       "    .dataframe tbody tr th {\n",
       "        vertical-align: top;\n",
       "    }\n",
       "\n",
       "    .dataframe thead th {\n",
       "        text-align: right;\n",
       "    }\n",
       "</style>\n",
       "<table border=\"1\" class=\"dataframe\">\n",
       "  <thead>\n",
       "    <tr style=\"text-align: right;\">\n",
       "      <th></th>\n",
       "      <th>1995</th>\n",
       "      <th>2000</th>\n",
       "      <th>2005</th>\n",
       "      <th>2009</th>\n",
       "      <th>2010</th>\n",
       "      <th>2011</th>\n",
       "    </tr>\n",
       "  </thead>\n",
       "  <tbody>\n",
       "    <tr>\n",
       "      <th>count</th>\n",
       "      <td>333.000000</td>\n",
       "      <td>333.000000</td>\n",
       "      <td>333.000000</td>\n",
       "      <td>333.00000</td>\n",
       "      <td>333.000000</td>\n",
       "      <td>333.000000</td>\n",
       "    </tr>\n",
       "    <tr>\n",
       "      <th>mean</th>\n",
       "      <td>3.106383</td>\n",
       "      <td>3.062626</td>\n",
       "      <td>3.142453</td>\n",
       "      <td>3.38835</td>\n",
       "      <td>3.392079</td>\n",
       "      <td>2.573050</td>\n",
       "    </tr>\n",
       "    <tr>\n",
       "      <th>std</th>\n",
       "      <td>0.947629</td>\n",
       "      <td>0.937460</td>\n",
       "      <td>0.985465</td>\n",
       "      <td>1.03625</td>\n",
       "      <td>1.033496</td>\n",
       "      <td>1.960203</td>\n",
       "    </tr>\n",
       "    <tr>\n",
       "      <th>min</th>\n",
       "      <td>0.100000</td>\n",
       "      <td>0.500000</td>\n",
       "      <td>0.300000</td>\n",
       "      <td>0.30000</td>\n",
       "      <td>0.500000</td>\n",
       "      <td>0.000000</td>\n",
       "    </tr>\n",
       "    <tr>\n",
       "      <th>25%</th>\n",
       "      <td>3.106383</td>\n",
       "      <td>3.062626</td>\n",
       "      <td>3.142453</td>\n",
       "      <td>3.38835</td>\n",
       "      <td>3.392079</td>\n",
       "      <td>0.900000</td>\n",
       "    </tr>\n",
       "    <tr>\n",
       "      <th>50%</th>\n",
       "      <td>3.106383</td>\n",
       "      <td>3.062626</td>\n",
       "      <td>3.142453</td>\n",
       "      <td>3.38835</td>\n",
       "      <td>3.392079</td>\n",
       "      <td>2.573050</td>\n",
       "    </tr>\n",
       "    <tr>\n",
       "      <th>75%</th>\n",
       "      <td>3.106383</td>\n",
       "      <td>3.062626</td>\n",
       "      <td>3.142453</td>\n",
       "      <td>3.38835</td>\n",
       "      <td>3.392079</td>\n",
       "      <td>3.900000</td>\n",
       "    </tr>\n",
       "    <tr>\n",
       "      <th>max</th>\n",
       "      <td>6.800000</td>\n",
       "      <td>6.600000</td>\n",
       "      <td>7.200000</td>\n",
       "      <td>7.50000</td>\n",
       "      <td>7.600000</td>\n",
       "      <td>7.900000</td>\n",
       "    </tr>\n",
       "  </tbody>\n",
       "</table>\n",
       "</div>"
      ],
      "text/plain": [
       "             1995        2000        2005       2009        2010        2011\n",
       "count  333.000000  333.000000  333.000000  333.00000  333.000000  333.000000\n",
       "mean     3.106383    3.062626    3.142453    3.38835    3.392079    2.573050\n",
       "std      0.947629    0.937460    0.985465    1.03625    1.033496    1.960203\n",
       "min      0.100000    0.500000    0.300000    0.30000    0.500000    0.000000\n",
       "25%      3.106383    3.062626    3.142453    3.38835    3.392079    0.900000\n",
       "50%      3.106383    3.062626    3.142453    3.38835    3.392079    2.573050\n",
       "75%      3.106383    3.062626    3.142453    3.38835    3.392079    3.900000\n",
       "max      6.800000    6.600000    7.200000    7.50000    7.600000    7.900000"
      ]
     },
     "execution_count": 5,
     "metadata": {},
     "output_type": "execute_result"
    }
   ],
   "source": [
    "df1.describe()"
   ]
  },
  {
   "cell_type": "code",
   "execution_count": 6,
   "metadata": {},
   "outputs": [],
   "source": [
    "X=df1[['1995','2000','2005','2009','2010','2011']]\n",
    "y=df1[['institute_type']]"
   ]
  },
  {
   "cell_type": "code",
   "execution_count": 7,
   "metadata": {},
   "outputs": [
    {
     "data": {
      "text/html": [
       "<div>\n",
       "<style scoped>\n",
       "    .dataframe tbody tr th:only-of-type {\n",
       "        vertical-align: middle;\n",
       "    }\n",
       "\n",
       "    .dataframe tbody tr th {\n",
       "        vertical-align: top;\n",
       "    }\n",
       "\n",
       "    .dataframe thead th {\n",
       "        text-align: right;\n",
       "    }\n",
       "</style>\n",
       "<table border=\"1\" class=\"dataframe\">\n",
       "  <thead>\n",
       "    <tr style=\"text-align: right;\">\n",
       "      <th></th>\n",
       "      <th>1995</th>\n",
       "      <th>2000</th>\n",
       "      <th>2005</th>\n",
       "      <th>2009</th>\n",
       "      <th>2010</th>\n",
       "      <th>2011</th>\n",
       "    </tr>\n",
       "  </thead>\n",
       "  <tbody>\n",
       "    <tr>\n",
       "      <th>0</th>\n",
       "      <td>4.900000</td>\n",
       "      <td>4.900000</td>\n",
       "      <td>5.000000</td>\n",
       "      <td>5.40000</td>\n",
       "      <td>5.400000</td>\n",
       "      <td>5.30000</td>\n",
       "    </tr>\n",
       "    <tr>\n",
       "      <th>1</th>\n",
       "      <td>4.500000</td>\n",
       "      <td>4.600000</td>\n",
       "      <td>4.300000</td>\n",
       "      <td>4.50000</td>\n",
       "      <td>4.600000</td>\n",
       "      <td>4.30000</td>\n",
       "    </tr>\n",
       "    <tr>\n",
       "      <th>2</th>\n",
       "      <td>5.300000</td>\n",
       "      <td>5.400000</td>\n",
       "      <td>5.200000</td>\n",
       "      <td>5.70000</td>\n",
       "      <td>5.600000</td>\n",
       "      <td>5.50000</td>\n",
       "    </tr>\n",
       "    <tr>\n",
       "      <th>3</th>\n",
       "      <td>5.000000</td>\n",
       "      <td>5.100000</td>\n",
       "      <td>5.800000</td>\n",
       "      <td>6.40000</td>\n",
       "      <td>6.400000</td>\n",
       "      <td>6.40000</td>\n",
       "    </tr>\n",
       "    <tr>\n",
       "      <th>4</th>\n",
       "      <td>5.800000</td>\n",
       "      <td>5.200000</td>\n",
       "      <td>4.800000</td>\n",
       "      <td>5.00000</td>\n",
       "      <td>5.200000</td>\n",
       "      <td>2.57305</td>\n",
       "    </tr>\n",
       "    <tr>\n",
       "      <th>...</th>\n",
       "      <td>...</td>\n",
       "      <td>...</td>\n",
       "      <td>...</td>\n",
       "      <td>...</td>\n",
       "      <td>...</td>\n",
       "      <td>...</td>\n",
       "    </tr>\n",
       "    <tr>\n",
       "      <th>328</th>\n",
       "      <td>3.106383</td>\n",
       "      <td>3.062626</td>\n",
       "      <td>3.142453</td>\n",
       "      <td>3.38835</td>\n",
       "      <td>3.392079</td>\n",
       "      <td>2.57305</td>\n",
       "    </tr>\n",
       "    <tr>\n",
       "      <th>329</th>\n",
       "      <td>3.106383</td>\n",
       "      <td>3.062626</td>\n",
       "      <td>3.142453</td>\n",
       "      <td>3.38835</td>\n",
       "      <td>3.392079</td>\n",
       "      <td>1.20000</td>\n",
       "    </tr>\n",
       "    <tr>\n",
       "      <th>330</th>\n",
       "      <td>3.106383</td>\n",
       "      <td>3.062626</td>\n",
       "      <td>3.142453</td>\n",
       "      <td>3.38835</td>\n",
       "      <td>3.392079</td>\n",
       "      <td>2.70000</td>\n",
       "    </tr>\n",
       "    <tr>\n",
       "      <th>331</th>\n",
       "      <td>3.106383</td>\n",
       "      <td>3.062626</td>\n",
       "      <td>3.142453</td>\n",
       "      <td>3.38835</td>\n",
       "      <td>3.392079</td>\n",
       "      <td>2.57305</td>\n",
       "    </tr>\n",
       "    <tr>\n",
       "      <th>332</th>\n",
       "      <td>3.106383</td>\n",
       "      <td>3.062626</td>\n",
       "      <td>3.142453</td>\n",
       "      <td>3.38835</td>\n",
       "      <td>3.392079</td>\n",
       "      <td>1.40000</td>\n",
       "    </tr>\n",
       "  </tbody>\n",
       "</table>\n",
       "<p>333 rows × 6 columns</p>\n",
       "</div>"
      ],
      "text/plain": [
       "         1995      2000      2005     2009      2010     2011\n",
       "0    4.900000  4.900000  5.000000  5.40000  5.400000  5.30000\n",
       "1    4.500000  4.600000  4.300000  4.50000  4.600000  4.30000\n",
       "2    5.300000  5.400000  5.200000  5.70000  5.600000  5.50000\n",
       "3    5.000000  5.100000  5.800000  6.40000  6.400000  6.40000\n",
       "4    5.800000  5.200000  4.800000  5.00000  5.200000  2.57305\n",
       "..        ...       ...       ...      ...       ...      ...\n",
       "328  3.106383  3.062626  3.142453  3.38835  3.392079  2.57305\n",
       "329  3.106383  3.062626  3.142453  3.38835  3.392079  1.20000\n",
       "330  3.106383  3.062626  3.142453  3.38835  3.392079  2.70000\n",
       "331  3.106383  3.062626  3.142453  3.38835  3.392079  2.57305\n",
       "332  3.106383  3.062626  3.142453  3.38835  3.392079  1.40000\n",
       "\n",
       "[333 rows x 6 columns]"
      ]
     },
     "execution_count": 7,
     "metadata": {},
     "output_type": "execute_result"
    }
   ],
   "source": [
    "X"
   ]
  },
  {
   "cell_type": "code",
   "execution_count": 8,
   "metadata": {},
   "outputs": [
    {
     "data": {
      "text/html": [
       "<div>\n",
       "<style scoped>\n",
       "    .dataframe tbody tr th:only-of-type {\n",
       "        vertical-align: middle;\n",
       "    }\n",
       "\n",
       "    .dataframe tbody tr th {\n",
       "        vertical-align: top;\n",
       "    }\n",
       "\n",
       "    .dataframe thead th {\n",
       "        text-align: right;\n",
       "    }\n",
       "</style>\n",
       "<table border=\"1\" class=\"dataframe\">\n",
       "  <thead>\n",
       "    <tr style=\"text-align: right;\">\n",
       "      <th></th>\n",
       "      <th>institute_type</th>\n",
       "    </tr>\n",
       "  </thead>\n",
       "  <tbody>\n",
       "    <tr>\n",
       "      <th>0</th>\n",
       "      <td>All Institutions</td>\n",
       "    </tr>\n",
       "    <tr>\n",
       "      <th>1</th>\n",
       "      <td>All Institutions</td>\n",
       "    </tr>\n",
       "    <tr>\n",
       "      <th>2</th>\n",
       "      <td>All Institutions</td>\n",
       "    </tr>\n",
       "    <tr>\n",
       "      <th>3</th>\n",
       "      <td>All Institutions</td>\n",
       "    </tr>\n",
       "    <tr>\n",
       "      <th>4</th>\n",
       "      <td>All Institutions</td>\n",
       "    </tr>\n",
       "    <tr>\n",
       "      <th>...</th>\n",
       "      <td>...</td>\n",
       "    </tr>\n",
       "    <tr>\n",
       "      <th>328</th>\n",
       "      <td>Higher Education Institutions</td>\n",
       "    </tr>\n",
       "    <tr>\n",
       "      <th>329</th>\n",
       "      <td>Higher Education Institutions</td>\n",
       "    </tr>\n",
       "    <tr>\n",
       "      <th>330</th>\n",
       "      <td>Higher Education Institutions</td>\n",
       "    </tr>\n",
       "    <tr>\n",
       "      <th>331</th>\n",
       "      <td>Higher Education Institutions</td>\n",
       "    </tr>\n",
       "    <tr>\n",
       "      <th>332</th>\n",
       "      <td>Higher Education Institutions</td>\n",
       "    </tr>\n",
       "  </tbody>\n",
       "</table>\n",
       "<p>333 rows × 1 columns</p>\n",
       "</div>"
      ],
      "text/plain": [
       "                     institute_type\n",
       "0                 All Institutions \n",
       "1                 All Institutions \n",
       "2                 All Institutions \n",
       "3                 All Institutions \n",
       "4                 All Institutions \n",
       "..                              ...\n",
       "328  Higher Education Institutions \n",
       "329  Higher Education Institutions \n",
       "330  Higher Education Institutions \n",
       "331  Higher Education Institutions \n",
       "332  Higher Education Institutions \n",
       "\n",
       "[333 rows x 1 columns]"
      ]
     },
     "execution_count": 8,
     "metadata": {},
     "output_type": "execute_result"
    }
   ],
   "source": [
    "y"
   ]
  },
  {
   "cell_type": "code",
   "execution_count": 9,
   "metadata": {},
   "outputs": [],
   "source": [
    "from sklearn.preprocessing import MinMaxScaler\n",
    "from sklearn.preprocessing import StandardScaler\n",
    "from sklearn.model_selection import train_test_split"
   ]
  },
  {
   "cell_type": "code",
   "execution_count": 10,
   "metadata": {},
   "outputs": [],
   "source": [
    "x_train,x_test,y_train,y_test=train_test_split(X,y,test_size=0.2,random_state=17)"
   ]
  },
  {
   "cell_type": "code",
   "execution_count": 11,
   "metadata": {},
   "outputs": [
    {
     "name": "stdout",
     "output_type": "stream",
     "text": [
      "shape of original dataset : (333, 9)\n",
      "shape of input - training set (266, 6)\n",
      "shape of output - training set (266, 1)\n",
      "shape of input - testing set (67, 6)\n",
      "shape of output - testing set (67, 1)\n"
     ]
    }
   ],
   "source": [
    "print(\"shape of original dataset :\", df1.shape)\n",
    "print(\"shape of input - training set\", x_train.shape)\n",
    "print(\"shape of output - training set\", y_train.shape)\n",
    "print(\"shape of input - testing set\", x_test.shape)\n",
    "print(\"shape of output - testing set\", y_test.shape)"
   ]
  },
  {
   "cell_type": "code",
   "execution_count": 12,
   "metadata": {},
   "outputs": [],
   "source": [
    "scaler=StandardScaler().fit(x_train)\n",
    "std_x=scaler.transform(x_train)\n",
    "std_x_test=scaler.transform(x_test)"
   ]
  },
  {
   "cell_type": "code",
   "execution_count": 13,
   "metadata": {},
   "outputs": [],
   "source": [
    "normal=MinMaxScaler().fit(x_train)\n",
    "norm_x=normal.transform(x_train)\n",
    "norm_x_test=normal.transform(x_test)\n"
   ]
  },
  {
   "cell_type": "code",
   "execution_count": 16,
   "metadata": {},
   "outputs": [
    {
     "name": "stdout",
     "output_type": "stream",
     "text": [
      "Mean value= 5.787628800050941e-17\n",
      "std_deviation= 1.0\n",
      "Min value= 0.0\n",
      "Max value= 1.0\n"
     ]
    }
   ],
   "source": [
    "print('Mean value=',std_x.mean())\n",
    "print('std_deviation=',std_x.std())\n",
    "print('Min value=',norm_x.min())\n",
    "print('Max value=',norm_x.max())\n"
   ]
  },
  {
   "cell_type": "code",
   "execution_count": null,
   "metadata": {},
   "outputs": [],
   "source": []
  },
  {
   "cell_type": "code",
   "execution_count": 29,
   "metadata": {},
   "outputs": [],
   "source": [
    "from sklearn.feature_selection import SelectKBest\n",
    "from sklearn.feature_selection import chi2"
   ]
  },
  {
   "cell_type": "code",
   "execution_count": 48,
   "metadata": {},
   "outputs": [
    {
     "name": "stdout",
     "output_type": "stream",
     "text": [
      "  specs      scores\n",
      "5  2011  140.111256\n",
      "3  2009   28.305796\n",
      "2  2005   27.765617\n",
      "4  2010   26.654342\n",
      "1  2000   24.249948\n",
      "0  1995   22.828370\n"
     ]
    }
   ],
   "source": [
    "bestfeat=SelectKBest(score_func=chi2,k=4)\n",
    "fit=bestfeat.fit(X,y)\n",
    "dfscores=pd.DataFrame(fit.scores_)\n",
    "dfcol=pd.DataFrame(X.columns)\n",
    "featurescores=pd.concat([dfcol,dfscores],axis=1)\n",
    "featurescores.columns=['specs','scores']\n",
    "print(featurescores.nlargest(10,'scores'))"
   ]
  },
  {
   "cell_type": "code",
   "execution_count": 49,
   "metadata": {},
   "outputs": [],
   "source": [
    "from scipy.stats import pearsonr"
   ]
  },
  {
   "cell_type": "code",
   "execution_count": 56,
   "metadata": {},
   "outputs": [
    {
     "ename": "TypeError",
     "evalue": "float() argument must be a string or a number, not 'DataFrame'",
     "output_type": "error",
     "traceback": [
      "\u001b[1;31m---------------------------------------------------------------------------\u001b[0m",
      "\u001b[1;31mTypeError\u001b[0m                                 Traceback (most recent call last)",
      "\u001b[1;32m~\\AppData\\Local\\Temp/ipykernel_15152/3337128226.py\u001b[0m in \u001b[0;36m<module>\u001b[1;34m\u001b[0m\n\u001b[1;32m----> 1\u001b[1;33m \u001b[0mpcorr\u001b[0m\u001b[1;33m=\u001b[0m \u001b[0mpearsonr\u001b[0m\u001b[1;33m(\u001b[0m\u001b[0mfloat\u001b[0m\u001b[1;33m(\u001b[0m\u001b[0mX\u001b[0m\u001b[1;33m)\u001b[0m\u001b[1;33m,\u001b[0m \u001b[0my\u001b[0m\u001b[1;33m)\u001b[0m\u001b[1;33m\u001b[0m\u001b[1;33m\u001b[0m\u001b[0m\n\u001b[0m\u001b[0;32m      2\u001b[0m \u001b[0mprint\u001b[0m\u001b[1;33m(\u001b[0m\u001b[0mcorr\u001b[0m\u001b[1;33m)\u001b[0m\u001b[1;33m\u001b[0m\u001b[1;33m\u001b[0m\u001b[0m\n",
      "\u001b[1;31mTypeError\u001b[0m: float() argument must be a string or a number, not 'DataFrame'"
     ]
    }
   ],
   "source": [
    "pcorr= pearsonr(float(X), y)\n",
    "print(corr)"
   ]
  },
  {
   "cell_type": "code",
   "execution_count": 27,
   "metadata": {},
   "outputs": [
    {
     "data": {
      "text/plain": [
       "<seaborn.axisgrid.FacetGrid at 0x1bb011c7cd0>"
      ]
     },
     "execution_count": 27,
     "metadata": {},
     "output_type": "execute_result"
    },
    {
     "data": {
      "image/png": "[encoded data removed]",
      "text/plain": [
       "<Figure size 360x360 with 1 Axes>"
      ]
     },
     "metadata": {
      "needs_background": "light"
     },
     "output_type": "display_data"
    }
   ],
   "source": [
    "sns.lmplot(x ='2011', y ='institute_type', data = df1, order = 2, ci = None)"
   ]
  },
  {
   "cell_type": "code",
   "execution_count": 17,
   "metadata": {},
   "outputs": [],
   "source": [
    "institute_type={'All Institutions ':0,'Elementary and Secondary Institutions ':1,'Higher Education Institutions ':2}"
   ]
  },
  {
   "cell_type": "code",
   "execution_count": 18,
   "metadata": {},
   "outputs": [],
   "source": [
    "df2=df1"
   ]
  },
  {
   "cell_type": "code",
   "execution_count": 19,
   "metadata": {},
   "outputs": [],
   "source": [
    "df2.institute_type=[institute_type[item] for item in df2.institute_type]"
   ]
  },
  {
   "cell_type": "code",
   "execution_count": 20,
   "metadata": {},
   "outputs": [
    {
     "data": {
      "text/html": [
       "<div>\n",
       "<style scoped>\n",
       "    .dataframe tbody tr th:only-of-type {\n",
       "        vertical-align: middle;\n",
       "    }\n",
       "\n",
       "    .dataframe tbody tr th {\n",
       "        vertical-align: top;\n",
       "    }\n",
       "\n",
       "    .dataframe thead th {\n",
       "        text-align: right;\n",
       "    }\n",
       "</style>\n",
       "<table border=\"1\" class=\"dataframe\">\n",
       "  <thead>\n",
       "    <tr style=\"text-align: right;\">\n",
       "      <th></th>\n",
       "      <th>country</th>\n",
       "      <th>institute_type</th>\n",
       "      <th>direct_expenditure_type</th>\n",
       "      <th>1995</th>\n",
       "      <th>2000</th>\n",
       "      <th>2005</th>\n",
       "      <th>2009</th>\n",
       "      <th>2010</th>\n",
       "      <th>2011</th>\n",
       "    </tr>\n",
       "  </thead>\n",
       "  <tbody>\n",
       "    <tr>\n",
       "      <th>0</th>\n",
       "      <td>OECD Average</td>\n",
       "      <td>0</td>\n",
       "      <td>Public</td>\n",
       "      <td>4.900000</td>\n",
       "      <td>4.900000</td>\n",
       "      <td>5.000000</td>\n",
       "      <td>5.40000</td>\n",
       "      <td>5.400000</td>\n",
       "      <td>5.30000</td>\n",
       "    </tr>\n",
       "    <tr>\n",
       "      <th>1</th>\n",
       "      <td>Australia</td>\n",
       "      <td>0</td>\n",
       "      <td>Public</td>\n",
       "      <td>4.500000</td>\n",
       "      <td>4.600000</td>\n",
       "      <td>4.300000</td>\n",
       "      <td>4.50000</td>\n",
       "      <td>4.600000</td>\n",
       "      <td>4.30000</td>\n",
       "    </tr>\n",
       "    <tr>\n",
       "      <th>2</th>\n",
       "      <td>Austria</td>\n",
       "      <td>0</td>\n",
       "      <td>Public</td>\n",
       "      <td>5.300000</td>\n",
       "      <td>5.400000</td>\n",
       "      <td>5.200000</td>\n",
       "      <td>5.70000</td>\n",
       "      <td>5.600000</td>\n",
       "      <td>5.50000</td>\n",
       "    </tr>\n",
       "    <tr>\n",
       "      <th>3</th>\n",
       "      <td>Belgium</td>\n",
       "      <td>0</td>\n",
       "      <td>Public</td>\n",
       "      <td>5.000000</td>\n",
       "      <td>5.100000</td>\n",
       "      <td>5.800000</td>\n",
       "      <td>6.40000</td>\n",
       "      <td>6.400000</td>\n",
       "      <td>6.40000</td>\n",
       "    </tr>\n",
       "    <tr>\n",
       "      <th>4</th>\n",
       "      <td>Canada</td>\n",
       "      <td>0</td>\n",
       "      <td>Public</td>\n",
       "      <td>5.800000</td>\n",
       "      <td>5.200000</td>\n",
       "      <td>4.800000</td>\n",
       "      <td>5.00000</td>\n",
       "      <td>5.200000</td>\n",
       "      <td>2.57305</td>\n",
       "    </tr>\n",
       "    <tr>\n",
       "      <th>...</th>\n",
       "      <td>...</td>\n",
       "      <td>...</td>\n",
       "      <td>...</td>\n",
       "      <td>...</td>\n",
       "      <td>...</td>\n",
       "      <td>...</td>\n",
       "      <td>...</td>\n",
       "      <td>...</td>\n",
       "      <td>...</td>\n",
       "    </tr>\n",
       "    <tr>\n",
       "      <th>328</th>\n",
       "      <td>Turkey</td>\n",
       "      <td>2</td>\n",
       "      <td>Total</td>\n",
       "      <td>3.106383</td>\n",
       "      <td>3.062626</td>\n",
       "      <td>3.142453</td>\n",
       "      <td>3.38835</td>\n",
       "      <td>3.392079</td>\n",
       "      <td>2.57305</td>\n",
       "    </tr>\n",
       "    <tr>\n",
       "      <th>329</th>\n",
       "      <td>United Kingdom</td>\n",
       "      <td>2</td>\n",
       "      <td>Total</td>\n",
       "      <td>3.106383</td>\n",
       "      <td>3.062626</td>\n",
       "      <td>3.142453</td>\n",
       "      <td>3.38835</td>\n",
       "      <td>3.392079</td>\n",
       "      <td>1.20000</td>\n",
       "    </tr>\n",
       "    <tr>\n",
       "      <th>330</th>\n",
       "      <td>United States</td>\n",
       "      <td>2</td>\n",
       "      <td>Total</td>\n",
       "      <td>3.106383</td>\n",
       "      <td>3.062626</td>\n",
       "      <td>3.142453</td>\n",
       "      <td>3.38835</td>\n",
       "      <td>3.392079</td>\n",
       "      <td>2.70000</td>\n",
       "    </tr>\n",
       "    <tr>\n",
       "      <th>331</th>\n",
       "      <td>Brazil</td>\n",
       "      <td>2</td>\n",
       "      <td>Total</td>\n",
       "      <td>3.106383</td>\n",
       "      <td>3.062626</td>\n",
       "      <td>3.142453</td>\n",
       "      <td>3.38835</td>\n",
       "      <td>3.392079</td>\n",
       "      <td>2.57305</td>\n",
       "    </tr>\n",
       "    <tr>\n",
       "      <th>332</th>\n",
       "      <td>Russian Federation</td>\n",
       "      <td>2</td>\n",
       "      <td>Total</td>\n",
       "      <td>3.106383</td>\n",
       "      <td>3.062626</td>\n",
       "      <td>3.142453</td>\n",
       "      <td>3.38835</td>\n",
       "      <td>3.392079</td>\n",
       "      <td>1.40000</td>\n",
       "    </tr>\n",
       "  </tbody>\n",
       "</table>\n",
       "<p>333 rows × 9 columns</p>\n",
       "</div>"
      ],
      "text/plain": [
       "                  country  institute_type direct_expenditure_type      1995  \\\n",
       "0            OECD Average               0                  Public  4.900000   \n",
       "1               Australia               0                  Public  4.500000   \n",
       "2                 Austria               0                  Public  5.300000   \n",
       "3                 Belgium               0                  Public  5.000000   \n",
       "4                  Canada               0                  Public  5.800000   \n",
       "..                    ...             ...                     ...       ...   \n",
       "328                Turkey               2                   Total  3.106383   \n",
       "329        United Kingdom               2                   Total  3.106383   \n",
       "330         United States               2                   Total  3.106383   \n",
       "331                Brazil               2                   Total  3.106383   \n",
       "332    Russian Federation               2                   Total  3.106383   \n",
       "\n",
       "         2000      2005     2009      2010     2011  \n",
       "0    4.900000  5.000000  5.40000  5.400000  5.30000  \n",
       "1    4.600000  4.300000  4.50000  4.600000  4.30000  \n",
       "2    5.400000  5.200000  5.70000  5.600000  5.50000  \n",
       "3    5.100000  5.800000  6.40000  6.400000  6.40000  \n",
       "4    5.200000  4.800000  5.00000  5.200000  2.57305  \n",
       "..        ...       ...      ...       ...      ...  \n",
       "328  3.062626  3.142453  3.38835  3.392079  2.57305  \n",
       "329  3.062626  3.142453  3.38835  3.392079  1.20000  \n",
       "330  3.062626  3.142453  3.38835  3.392079  2.70000  \n",
       "331  3.062626  3.142453  3.38835  3.392079  2.57305  \n",
       "332  3.062626  3.142453  3.38835  3.392079  1.40000  \n",
       "\n",
       "[333 rows x 9 columns]"
      ]
     },
     "execution_count": 20,
     "metadata": {},
     "output_type": "execute_result"
    }
   ],
   "source": [
    "df2"
   ]
  },
  {
   "cell_type": "code",
   "execution_count": 43,
   "metadata": {},
   "outputs": [
    {
     "data": {
      "text/plain": [
       "<AxesSubplot:xlabel='2011', ylabel='institute_type'>"
      ]
     },
     "execution_count": 43,
     "metadata": {},
     "output_type": "execute_result"
    },
    {
     "data": {
      "image/png": "[encoded data removed]",
      "text/plain": [
       "<Figure size 432x288 with 1 Axes>"
      ]
     },
     "metadata": {
      "needs_background": "light"
     },
     "output_type": "display_data"
    }
   ],
   "source": [
    "sns.scatterplot(x =X['2011'], y ='institute_type', data = df2)"
   ]
  },
  {
   "cell_type": "code",
   "execution_count": 28,
   "metadata": {},
   "outputs": [],
   "source": [
    "X=df2[['1995','2000','2005','2009','2010','2011']]\n",
    "y=df2[['institute_type']]\n",
    "x_train,x_test,y_train,y_test=train_test_split(X,y,test_size=0.2,random_state=17)"
   ]
  },
  {
   "cell_type": "code",
   "execution_count": 29,
   "metadata": {
    "scrolled": true
   },
   "outputs": [
    {
     "name": "stdout",
     "output_type": "stream",
     "text": [
      "shape of original dataset : (333, 9)\n",
      "shape of input - training set (266, 6)\n",
      "shape of output - training set (266, 1)\n",
      "shape of input - testing set (67, 6)\n",
      "shape of output - testing set (67, 1)\n"
     ]
    }
   ],
   "source": [
    "# x_train=x_train['2011']\n",
    "# x_test=x_test['2011']\n",
    "print(\"shape of original dataset :\", df1.shape)\n",
    "print(\"shape of input - training set\", x_train.shape)\n",
    "print(\"shape of output - training set\", y_train.shape)\n",
    "print(\"shape of input - testing set\", x_test.shape)\n",
    "print(\"shape of output - testing set\", y_test.shape)"
   ]
  },
  {
   "cell_type": "code",
   "execution_count": 31,
   "metadata": {},
   "outputs": [
    {
     "data": {
      "text/plain": [
       "(         1995      2000      2005     2009      2010     2011\n",
       " 305  3.106383  3.062626  3.142453  3.38835  3.392079  1.90000\n",
       " 65   3.106383  3.062626  3.900000  3.60000  3.600000  3.50000\n",
       " 181  3.106383  3.062626  3.142453  3.38835  3.392079  0.40000\n",
       " 158  3.106383  3.062626  3.142453  3.38835  3.392079  0.30000\n",
       " 122  3.106383  3.062626  3.142453  3.38835  3.392079  0.70000\n",
       " ..        ...       ...       ...      ...       ...      ...\n",
       " 240  3.106383  3.062626  3.142453  3.38835  3.392079  5.10000\n",
       " 313  3.106383  3.062626  3.142453  3.38835  3.392079  1.00000\n",
       " 143  3.106383  3.062626  3.142453  3.38835  3.392079  2.57305\n",
       " 241  3.106383  3.062626  3.142453  3.38835  3.392079  7.60000\n",
       " 111  3.106383  3.062626  3.142453  3.38835  3.392079  0.90000\n",
       " \n",
       " [266 rows x 6 columns],\n",
       "      institute_type\n",
       " 305               2\n",
       " 65                1\n",
       " 181               1\n",
       " 158               1\n",
       " 122               0\n",
       " ..              ...\n",
       " 240               0\n",
       " 313               2\n",
       " 143               0\n",
       " 241               0\n",
       " 111               0\n",
       " \n",
       " [266 rows x 1 columns])"
      ]
     },
     "execution_count": 31,
     "metadata": {},
     "output_type": "execute_result"
    }
   ],
   "source": [
    "x_train,y_train"
   ]
  },
  {
   "cell_type": "code",
   "execution_count": 35,
   "metadata": {},
   "outputs": [
    {
     "data": {
      "text/plain": [
       "<seaborn.axisgrid.PairGrid at 0x1bb0586fac0>"
      ]
     },
     "execution_count": 35,
     "metadata": {},
     "output_type": "execute_result"
    },
    {
     "data": {
      "image/png": "[encoded data removed]",
      "text/plain": [
       "<Figure size 1080x180 with 6 Axes>"
      ]
     },
     "metadata": {
      "needs_background": "light"
     },
     "output_type": "display_data"
    }
   ],
   "source": [
    "sns.pairplot(df2,x_vars=['1995','2000','2005','2009','2010','2011'],y_vars='institute_type')"
   ]
  },
  {
   "cell_type": "code",
   "execution_count": 36,
   "metadata": {},
   "outputs": [
    {
     "data": {
      "text/plain": [
       "LinearRegression()"
      ]
     },
     "execution_count": 36,
     "metadata": {},
     "output_type": "execute_result"
    }
   ],
   "source": [
    "from sklearn.linear_model import LinearRegression\n",
    "regression_model = LinearRegression()\n",
    "regression_model.fit(x_train, y_train)\n"
   ]
  },
  {
   "cell_type": "code",
   "execution_count": 37,
   "metadata": {},
   "outputs": [
    {
     "data": {
      "text/plain": [
       "(array([2.30370674]),\n",
       " array([[-0.10134435, -0.08930636,  0.05837655, -0.3170728 ,  0.17497047,\n",
       "         -0.15685584]]))"
      ]
     },
     "execution_count": 37,
     "metadata": {},
     "output_type": "execute_result"
    }
   ],
   "source": [
    "regression_model.intercept_,regression_model.coef_"
   ]
  },
  {
   "cell_type": "code",
   "execution_count": 55,
   "metadata": {
    "scrolled": true
   },
   "outputs": [
    {
     "data": {
      "text/plain": [
       "array([[0.55527907],\n",
       "       [0.07631589],\n",
       "       [0.30464092],\n",
       "       [1.37092943],\n",
       "       [1.15133125],\n",
       "       [1.19838801],\n",
       "       [1.4023006 ],\n",
       "       [1.18270242],\n",
       "       [1.01438832],\n",
       "       [1.21407359],\n",
       "       [1.21407359],\n",
       "       [1.4023006 ],\n",
       "       [0.77487724],\n",
       "       [1.01438832],\n",
       "       [1.01438832],\n",
       "       [1.33954508],\n",
       "       [1.01438832],\n",
       "       [1.86663676],\n",
       "       [1.4023006 ],\n",
       "       [0.88467633],\n",
       "       [0.57096465],\n",
       "       [0.50822232],\n",
       "       [1.35524384],\n",
       "       [1.86417956],\n",
       "       [0.44547998],\n",
       "       [0.18534177],\n",
       "       [1.38661501],\n",
       "       [1.33955826],\n",
       "       [1.38661501],\n",
       "       [1.37092943],\n",
       "       [1.01438832],\n",
       "       [1.36358809],\n",
       "       [0.49253673],\n",
       "       [1.01438832],\n",
       "       [1.15133125],\n",
       "       [1.52472656],\n",
       "       [1.30818709],\n",
       "       [0.82193399],\n",
       "       [1.13538776],\n",
       "       [1.74228522],\n",
       "       [1.92045249],\n",
       "       [1.01438832],\n",
       "       [1.37092943],\n",
       "       [1.26113034],\n",
       "       [0.55908818],\n",
       "       [0.33568089],\n",
       "       [1.33955826],\n",
       "       [1.37092943],\n",
       "       [1.33955826],\n",
       "       [1.30818709],\n",
       "       [1.31906824],\n",
       "       [0.79056283],\n",
       "       [0.24156739],\n",
       "       [0.39842323],\n",
       "       [1.35524384],\n",
       "       [0.28272201],\n",
       "       [0.83803623],\n",
       "       [1.32387268],\n",
       "       [1.41798618],\n",
       "       [1.35524384],\n",
       "       [1.22975917],\n",
       "       [1.4023006 ],\n",
       "       [0.37701852],\n",
       "       [1.02584658],\n",
       "       [0.91135332],\n",
       "       [1.01438832],\n",
       "       [1.30818709]])"
      ]
     },
     "execution_count": 55,
     "metadata": {},
     "output_type": "execute_result"
    }
   ],
   "source": [
    "predicted = regression_model.predict(x_test)\n",
    "predicted"
   ]
  },
  {
   "cell_type": "code",
   "execution_count": 63,
   "metadata": {
    "scrolled": true
   },
   "outputs": [
    {
     "data": {
      "text/plain": [
       "array([[0],\n",
       "       [0],\n",
       "       [0],\n",
       "       [2],\n",
       "       [2],\n",
       "       [2],\n",
       "       [1],\n",
       "       [0],\n",
       "       [0],\n",
       "       [2],\n",
       "       [2],\n",
       "       [2],\n",
       "       [1],\n",
       "       [2],\n",
       "       [1],\n",
       "       [2],\n",
       "       [1],\n",
       "       [2],\n",
       "       [1],\n",
       "       [1],\n",
       "       [1],\n",
       "       [0],\n",
       "       [0],\n",
       "       [2],\n",
       "       [0],\n",
       "       [0],\n",
       "       [1],\n",
       "       [0],\n",
       "       [2],\n",
       "       [2],\n",
       "       [2],\n",
       "       [2],\n",
       "       [0],\n",
       "       [0],\n",
       "       [2],\n",
       "       [2],\n",
       "       [0],\n",
       "       [1],\n",
       "       [1],\n",
       "       [2],\n",
       "       [2],\n",
       "       [0],\n",
       "       [1],\n",
       "       [2],\n",
       "       [1],\n",
       "       [0],\n",
       "       [2],\n",
       "       [2],\n",
       "       [0],\n",
       "       [1],\n",
       "       [2],\n",
       "       [1],\n",
       "       [0],\n",
       "       [0],\n",
       "       [0],\n",
       "       [0],\n",
       "       [1],\n",
       "       [1],\n",
       "       [1],\n",
       "       [0],\n",
       "       [2],\n",
       "       [1],\n",
       "       [0],\n",
       "       [0],\n",
       "       [1],\n",
       "       [2],\n",
       "       [0]], dtype=int64)"
      ]
     },
     "execution_count": 63,
     "metadata": {},
     "output_type": "execute_result"
    }
   ],
   "source": [
    "import numpy as np\n",
    "y_testarr=np.array(y_test)\n",
    "y_testarr"
   ]
  },
  {
   "cell_type": "code",
   "execution_count": 68,
   "metadata": {},
   "outputs": [],
   "source": [
    "oned=predicted.flatten()"
   ]
  },
  {
   "cell_type": "code",
   "execution_count": 73,
   "metadata": {},
   "outputs": [
    {
     "data": {
      "text/plain": [
       "(67,)"
      ]
     },
     "execution_count": 73,
     "metadata": {},
     "output_type": "execute_result"
    }
   ],
   "source": [
    "oned.shape"
   ]
  },
  {
   "cell_type": "code",
   "execution_count": 72,
   "metadata": {},
   "outputs": [
    {
     "ename": "TypeError",
     "evalue": "only size-1 arrays can be converted to Python scalars",
     "output_type": "error",
     "traceback": [
      "\u001b[1;31m---------------------------------------------------------------------------\u001b[0m",
      "\u001b[1;31mTypeError\u001b[0m                                 Traceback (most recent call last)",
      "\u001b[1;32m~\\AppData\\Local\\Temp/ipykernel_14320/1570351632.py\u001b[0m in \u001b[0;36m<module>\u001b[1;34m\u001b[0m\n\u001b[0;32m      1\u001b[0m \u001b[1;32mimport\u001b[0m \u001b[0mmath\u001b[0m\u001b[1;33m\u001b[0m\u001b[1;33m\u001b[0m\u001b[0m\n\u001b[1;32m----> 2\u001b[1;33m \u001b[0mpredicted_floor\u001b[0m\u001b[1;33m=\u001b[0m\u001b[0mmath\u001b[0m\u001b[1;33m.\u001b[0m\u001b[0mfloor\u001b[0m\u001b[1;33m(\u001b[0m\u001b[0moned\u001b[0m\u001b[1;33m)\u001b[0m\u001b[1;33m\u001b[0m\u001b[1;33m\u001b[0m\u001b[0m\n\u001b[0m",
      "\u001b[1;31mTypeError\u001b[0m: only size-1 arrays can be converted to Python scalars"
     ]
    }
   ],
   "source": [
    "import math\n",
    "predicted_floor=math.floor(oned)"
   ]
  },
  {
   "cell_type": "code",
   "execution_count": 44,
   "metadata": {},
   "outputs": [],
   "source": [
    "from sklearn.metrics import mean_squared_error, r2_score"
   ]
  },
  {
   "cell_type": "code",
   "execution_count": 39,
   "metadata": {},
   "outputs": [],
   "source": [
    "from sklearn import metrics"
   ]
  },
  {
   "cell_type": "code",
   "execution_count": 42,
   "metadata": {},
   "outputs": [
    {
     "name": "stdout",
     "output_type": "stream",
     "text": [
      "Root mean squared error:  0.3158591547342199\n",
      "MAE:  0.5850497378042446\n"
     ]
    }
   ],
   "source": [
    "rmse=metrics.r2_score(y_test,predicted)\n",
    "mae=metrics.mean_absolute_error(y_test,predicted)\n",
    "print('Root mean squared error: ', rmse)\n",
    "print('MAE: ', mae)"
   ]
  },
  {
   "cell_type": "code",
   "execution_count": 45,
   "metadata": {},
   "outputs": [
    {
     "name": "stdout",
     "output_type": "stream",
     "text": [
      "Slope: [[-0.10134435 -0.08930636  0.05837655 -0.3170728   0.17497047 -0.15685584]]\n",
      "Intercept: [2.30370674]\n",
      "Root mean squared error:  0.3996179434163931\n",
      "R2 score:  0.38908981063930703\n"
     ]
    }
   ],
   "source": [
    "rmse = mean_squared_error(y_train, predicted)\n",
    "r2 = r2_score(y_train, predicted)\n",
    "\n",
    "print('Slope:' ,regression_model.coef_)\n",
    "print('Intercept:', regression_model.intercept_)\n",
    "print('Root mean squared error: ', rmse)\n",
    "print('R2 score: ', r2)"
   ]
  },
  {
   "cell_type": "code",
   "execution_count": 47,
   "metadata": {},
   "outputs": [
    {
     "name": "stderr",
     "output_type": "stream",
     "text": [
      "C:\\ProgramData\\Anaconda3\\envs\\aa\\lib\\site-packages\\sklearn\\utils\\validation.py:993: DataConversionWarning: A column-vector y was passed when a 1d array was expected. Please change the shape of y to (n_samples, ), for example using ravel().\n",
      "  y = column_or_1d(y, warn=True)\n"
     ]
    }
   ],
   "source": [
    "from sklearn.linear_model import LogisticRegression\n",
    "logisticRegr = LogisticRegression(max_iter=1000)\n",
    "logisticRegr.fit(x_train, y_train)\n",
    "predictions_logistic = logisticRegr.predict(x_test)"
   ]
  },
  {
   "cell_type": "code",
   "execution_count": 48,
   "metadata": {},
   "outputs": [
    {
     "data": {
      "text/plain": [
       "array([-4.66620437, -0.94238182,  5.60858619])"
      ]
     },
     "execution_count": 48,
     "metadata": {},
     "output_type": "execute_result"
    }
   ],
   "source": [
    "logisticRegr.intercept_"
   ]
  },
  {
   "cell_type": "code",
   "execution_count": 53,
   "metadata": {},
   "outputs": [
    {
     "data": {
      "text/plain": [
       "-0.10416666666666674"
      ]
     },
     "execution_count": 53,
     "metadata": {},
     "output_type": "execute_result"
    }
   ],
   "source": [
    "metrics.r2_score(y_test,predictions_logistic)"
   ]
  },
  {
   "cell_type": "code",
   "execution_count": 54,
   "metadata": {},
   "outputs": [
    {
     "name": "stdout",
     "output_type": "stream",
     "text": [
      "[[12  5  7]\n",
      " [ 2  8  9]\n",
      " [ 0  9 15]]\n",
      "0.5223880597014925\n"
     ]
    }
   ],
   "source": [
    "from sklearn import metrics\n",
    "cm = metrics.confusion_matrix(y_test, predictions_logistic)\n",
    "accuscore=metrics.accuracy_score(y_test, predictions_logistic)\n",
    "\n",
    "print(cm)\n",
    "print(accuscore)\n"
   ]
  },
  {
   "cell_type": "code",
   "execution_count": null,
   "metadata": {},
   "outputs": [],
   "source": []
  }
 ],
 "metadata": {
  "kernelspec": {
   "display_name": "Python 3",
   "language": "python",
   "name": "python3"
  },
  "language_info": {
   "codemirror_mode": {
    "name": "ipython",
    "version": 3
   },
   "file_extension": ".py",
   "mimetype": "text/x-python",
   "name": "python",
   "nbconvert_exporter": "python",
   "pygments_lexer": "ipython3",
   "version": "3.8.5"
  }
 },
 "nbformat": 4,
 "nbformat_minor": 5
}
