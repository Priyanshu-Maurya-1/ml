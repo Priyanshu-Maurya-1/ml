{
 "cells": [
  {
   "cell_type": "code",
   "execution_count": null,
   "metadata": {
    "colab": {
     "base_uri": "https://localhost:8080/",
     "height": 34
    },
    "id": "ECTa0osa50xG",
    "outputId": "a53ac7b4-6c54-4dc5-9a80-1c8dbd098e9c"
   },
   "outputs": [
    {
     "name": "stdout",
     "output_type": "stream",
     "text": [
      "Drive already mounted at /content/drive; to attempt to forcibly remount, call drive.mount(\"/content/drive\", force_remount=True).\n"
     ]
    }
   ],
   "source": [
    "from google.colab import drive\n",
    "drive.mount('/content/drive')"
   ]
  },
  {
   "cell_type": "code",
   "execution_count": null,
   "metadata": {
    "colab": {
     "base_uri": "https://localhost:8080/",
     "height": 51
    },
    "id": "-lPIvGwu511-",
    "outputId": "8dcea999-b7d5-4a4d-9032-a054da1fd120"
   },
   "outputs": [
    {
     "name": "stdout",
     "output_type": "stream",
     "text": [
      "[Errno 2] No such file or directory: 'drive/My Drive/Colab Notebooks/ml_p7/'\n",
      "/content/drive/My Drive/Colab Notebooks/ml_p7\n"
     ]
    }
   ],
   "source": [
    "cd 'drive/My Drive/Colab Notebooks/ml_p7/'"
   ]
  },
  {
   "cell_type": "code",
   "execution_count": null,
   "metadata": {
    "colab": {
     "base_uri": "https://localhost:8080/",
     "height": 34
    },
    "id": "KwCKvpH06CZ1",
    "outputId": "1332df77-09d2-4896-9210-6d20dd61dd48"
   },
   "outputs": [
    {
     "name": "stdout",
     "output_type": "stream",
     "text": [
      "customers.csv  iris.csv  MLCSS344seventh.ipynb\n"
     ]
    }
   ],
   "source": [
    "ls"
   ]
  },
  {
   "cell_type": "markdown",
   "metadata": {
    "id": "5oUXCvuc6HXH"
   },
   "source": [
    "# K - Means Clustering"
   ]
  },
  {
   "cell_type": "code",
   "execution_count": 10,
   "metadata": {
    "id": "EKOo6Zv46Kqt"
   },
   "outputs": [],
   "source": [
    "import pandas as pd\n",
    "import numpy as np\n",
    "import matplotlib.pyplot as plt"
   ]
  },
  {
   "cell_type": "code",
   "execution_count": 11,
   "metadata": {
    "id": "1jprfTXY7xAF"
   },
   "outputs": [],
   "source": [
    "from sklearn.cluster import KMeans\n",
    "from sklearn.preprocessing import MinMaxScaler\n",
    "import seaborn as sns\n",
    "\n",
    "%matplotlib inline"
   ]
  },
  {
   "cell_type": "code",
   "execution_count": 12,
   "metadata": {
    "colab": {
     "base_uri": "https://localhost:8080/",
     "height": 419
    },
    "id": "l2NYpc0U7w9Z",
    "outputId": "13114427-e238-4735-f959-a0e4896c8089"
   },
   "outputs": [
    {
     "data": {
      "text/html": [
       "<div>\n",
       "<style scoped>\n",
       "    .dataframe tbody tr th:only-of-type {\n",
       "        vertical-align: middle;\n",
       "    }\n",
       "\n",
       "    .dataframe tbody tr th {\n",
       "        vertical-align: top;\n",
       "    }\n",
       "\n",
       "    .dataframe thead th {\n",
       "        text-align: right;\n",
       "    }\n",
       "</style>\n",
       "<table border=\"1\" class=\"dataframe\">\n",
       "  <thead>\n",
       "    <tr style=\"text-align: right;\">\n",
       "      <th></th>\n",
       "      <th>CustomerID</th>\n",
       "      <th>Gender</th>\n",
       "      <th>Age</th>\n",
       "      <th>Annual Income (k$)</th>\n",
       "      <th>Spending Score (1-100)</th>\n",
       "    </tr>\n",
       "  </thead>\n",
       "  <tbody>\n",
       "    <tr>\n",
       "      <th>0</th>\n",
       "      <td>1</td>\n",
       "      <td>Male</td>\n",
       "      <td>19</td>\n",
       "      <td>15</td>\n",
       "      <td>39</td>\n",
       "    </tr>\n",
       "    <tr>\n",
       "      <th>1</th>\n",
       "      <td>2</td>\n",
       "      <td>Male</td>\n",
       "      <td>21</td>\n",
       "      <td>15</td>\n",
       "      <td>81</td>\n",
       "    </tr>\n",
       "    <tr>\n",
       "      <th>2</th>\n",
       "      <td>3</td>\n",
       "      <td>Female</td>\n",
       "      <td>20</td>\n",
       "      <td>16</td>\n",
       "      <td>6</td>\n",
       "    </tr>\n",
       "    <tr>\n",
       "      <th>3</th>\n",
       "      <td>4</td>\n",
       "      <td>Female</td>\n",
       "      <td>23</td>\n",
       "      <td>16</td>\n",
       "      <td>77</td>\n",
       "    </tr>\n",
       "    <tr>\n",
       "      <th>4</th>\n",
       "      <td>5</td>\n",
       "      <td>Female</td>\n",
       "      <td>31</td>\n",
       "      <td>17</td>\n",
       "      <td>40</td>\n",
       "    </tr>\n",
       "    <tr>\n",
       "      <th>...</th>\n",
       "      <td>...</td>\n",
       "      <td>...</td>\n",
       "      <td>...</td>\n",
       "      <td>...</td>\n",
       "      <td>...</td>\n",
       "    </tr>\n",
       "    <tr>\n",
       "      <th>195</th>\n",
       "      <td>196</td>\n",
       "      <td>Female</td>\n",
       "      <td>35</td>\n",
       "      <td>120</td>\n",
       "      <td>79</td>\n",
       "    </tr>\n",
       "    <tr>\n",
       "      <th>196</th>\n",
       "      <td>197</td>\n",
       "      <td>Female</td>\n",
       "      <td>45</td>\n",
       "      <td>126</td>\n",
       "      <td>28</td>\n",
       "    </tr>\n",
       "    <tr>\n",
       "      <th>197</th>\n",
       "      <td>198</td>\n",
       "      <td>Male</td>\n",
       "      <td>32</td>\n",
       "      <td>126</td>\n",
       "      <td>74</td>\n",
       "    </tr>\n",
       "    <tr>\n",
       "      <th>198</th>\n",
       "      <td>199</td>\n",
       "      <td>Male</td>\n",
       "      <td>32</td>\n",
       "      <td>137</td>\n",
       "      <td>18</td>\n",
       "    </tr>\n",
       "    <tr>\n",
       "      <th>199</th>\n",
       "      <td>200</td>\n",
       "      <td>Male</td>\n",
       "      <td>30</td>\n",
       "      <td>137</td>\n",
       "      <td>83</td>\n",
       "    </tr>\n",
       "  </tbody>\n",
       "</table>\n",
       "<p>200 rows × 5 columns</p>\n",
       "</div>"
      ],
      "text/plain": [
       "     CustomerID  Gender  Age  Annual Income (k$)  Spending Score (1-100)\n",
       "0             1    Male   19                  15                      39\n",
       "1             2    Male   21                  15                      81\n",
       "2             3  Female   20                  16                       6\n",
       "3             4  Female   23                  16                      77\n",
       "4             5  Female   31                  17                      40\n",
       "..          ...     ...  ...                 ...                     ...\n",
       "195         196  Female   35                 120                      79\n",
       "196         197  Female   45                 126                      28\n",
       "197         198    Male   32                 126                      74\n",
       "198         199    Male   32                 137                      18\n",
       "199         200    Male   30                 137                      83\n",
       "\n",
       "[200 rows x 5 columns]"
      ]
     },
     "execution_count": 12,
     "metadata": {},
     "output_type": "execute_result"
    }
   ],
   "source": [
    "cust = pd.read_csv(\"customers.csv\")\n",
    "cust"
   ]
  },
  {
   "cell_type": "code",
   "execution_count": 13,
   "metadata": {
    "colab": {
     "base_uri": "https://localhost:8080/",
     "height": 119
    },
    "id": "XSN4tLQg7w6k",
    "outputId": "22dcebb0-784f-4d6b-873f-de2089ed77e9"
   },
   "outputs": [
    {
     "data": {
      "text/plain": [
       "CustomerID                0\n",
       "Gender                    0\n",
       "Age                       0\n",
       "Annual Income (k$)        0\n",
       "Spending Score (1-100)    0\n",
       "dtype: int64"
      ]
     },
     "execution_count": 13,
     "metadata": {},
     "output_type": "execute_result"
    }
   ],
   "source": [
    "cust.isnull().sum()"
   ]
  },
  {
   "cell_type": "code",
   "execution_count": 14,
   "metadata": {
    "colab": {
     "base_uri": "https://localhost:8080/",
     "height": 34
    },
    "id": "s6JaA1uq7w32",
    "outputId": "2165e58a-876c-4435-c217-32dde3673596"
   },
   "outputs": [
    {
     "data": {
      "text/plain": [
       "0"
      ]
     },
     "execution_count": 14,
     "metadata": {},
     "output_type": "execute_result"
    }
   ],
   "source": [
    "cust.duplicated().sum()"
   ]
  },
  {
   "cell_type": "code",
   "execution_count": 15,
   "metadata": {
    "colab": {
     "base_uri": "https://localhost:8080/",
     "height": 119
    },
    "id": "54gXeheY7w1N",
    "outputId": "e4707cad-decb-4c6d-a030-bed14680395e"
   },
   "outputs": [
    {
     "data": {
      "text/plain": [
       "CustomerID                 int64\n",
       "Gender                    object\n",
       "Age                        int64\n",
       "Annual Income (k$)         int64\n",
       "Spending Score (1-100)     int64\n",
       "dtype: object"
      ]
     },
     "execution_count": 15,
     "metadata": {},
     "output_type": "execute_result"
    }
   ],
   "source": [
    "cust.dtypes"
   ]
  },
  {
   "cell_type": "code",
   "execution_count": 16,
   "metadata": {
    "id": "98WYcb8F_n3g"
   },
   "outputs": [],
   "source": [
    "def statistics(variable):\n",
    "    if variable.dtype == \"int64\" or variable.dtype == \"float64\":\n",
    "        return pd.DataFrame([[variable.name, np.mean(variable), np.std(variable), np.median(variable), np.var(variable)]], \n",
    "                            columns = [\"Variable\", \"Mean\", \"Standard Deviation\", \"Median\", \"Variance\"]).set_index(\"Variable\")\n",
    "    else:\n",
    "        return pd.DataFrame(variable.value_counts())"
   ]
  },
  {
   "cell_type": "code",
   "execution_count": 17,
   "metadata": {
    "colab": {
     "base_uri": "https://localhost:8080/",
     "height": 111
    },
    "id": "UKCV1YE3-52c",
    "outputId": "da8c4dc8-f615-4d24-80c2-6ea7c4d53dce"
   },
   "outputs": [
    {
     "data": {
      "text/html": [
       "<div>\n",
       "<style scoped>\n",
       "    .dataframe tbody tr th:only-of-type {\n",
       "        vertical-align: middle;\n",
       "    }\n",
       "\n",
       "    .dataframe tbody tr th {\n",
       "        vertical-align: top;\n",
       "    }\n",
       "\n",
       "    .dataframe thead th {\n",
       "        text-align: right;\n",
       "    }\n",
       "</style>\n",
       "<table border=\"1\" class=\"dataframe\">\n",
       "  <thead>\n",
       "    <tr style=\"text-align: right;\">\n",
       "      <th></th>\n",
       "      <th>Mean</th>\n",
       "      <th>Standard Deviation</th>\n",
       "      <th>Median</th>\n",
       "      <th>Variance</th>\n",
       "    </tr>\n",
       "    <tr>\n",
       "      <th>Variable</th>\n",
       "      <th></th>\n",
       "      <th></th>\n",
       "      <th></th>\n",
       "      <th></th>\n",
       "    </tr>\n",
       "  </thead>\n",
       "  <tbody>\n",
       "    <tr>\n",
       "      <th>Spending Score (1-100)</th>\n",
       "      <td>50.2</td>\n",
       "      <td>25.758882</td>\n",
       "      <td>50.0</td>\n",
       "      <td>663.52</td>\n",
       "    </tr>\n",
       "  </tbody>\n",
       "</table>\n",
       "</div>"
      ],
      "text/plain": [
       "                        Mean  Standard Deviation  Median  Variance\n",
       "Variable                                                          \n",
       "Spending Score (1-100)  50.2           25.758882    50.0    663.52"
      ]
     },
     "execution_count": 17,
     "metadata": {},
     "output_type": "execute_result"
    }
   ],
   "source": [
    "spending = cust[\"Spending Score (1-100)\"]\n",
    "statistics(spending)"
   ]
  },
  {
   "cell_type": "code",
   "execution_count": 18,
   "metadata": {
    "colab": {
     "base_uri": "https://localhost:8080/",
     "height": 296
    },
    "id": "8dxEVL6w_cQA",
    "outputId": "a974c200-03b2-4fa6-9ed5-13d44cee61ac"
   },
   "outputs": [
    {
     "name": "stderr",
     "output_type": "stream",
     "text": [
      "C:\\ProgramData\\Anaconda3\\lib\\site-packages\\seaborn\\distributions.py:2551: FutureWarning: `distplot` is a deprecated function and will be removed in a future version. Please adapt your code to use either `displot` (a figure-level function with similar flexibility) or `histplot` (an axes-level function for histograms).\n",
      "  warnings.warn(msg, FutureWarning)\n"
     ]
    },
    {
     "data": {
      "text/plain": [
       "<AxesSubplot:xlabel='Spending Score (1-100)', ylabel='Density'>"
      ]
     },
     "execution_count": 18,
     "metadata": {},
     "output_type": "execute_result"
    },
    {
     "data": {
      "image/png": "[encoded data removed]",
      "text/plain": [
       "<Figure size 432x288 with 1 Axes>"
      ]
     },
     "metadata": {
      "needs_background": "light"
     },
     "output_type": "display_data"
    }
   ],
   "source": [
    "sns.distplot(cust[\"Spending Score (1-100)\"], bins=10, kde_kws={\"lw\": 1.5, \"alpha\":0.8, \"color\":list(map(float, np.random.rand(3,)))},\n",
    "                       hist_kws={\"linewidth\": 1.5, \"edgecolor\": \"grey\",\n",
    "                                \"alpha\": 0.4, \"color\":list(map(float, np.random.rand(3,)))})"
   ]
  },
  {
   "cell_type": "code",
   "execution_count": 19,
   "metadata": {
    "colab": {
     "base_uri": "https://localhost:8080/",
     "height": 111
    },
    "id": "w3O3Br6J-5z0",
    "outputId": "f02f195e-5ebf-4b76-bbc0-8292d5c2542e"
   },
   "outputs": [
    {
     "data": {
      "text/html": [
       "<div>\n",
       "<style scoped>\n",
       "    .dataframe tbody tr th:only-of-type {\n",
       "        vertical-align: middle;\n",
       "    }\n",
       "\n",
       "    .dataframe tbody tr th {\n",
       "        vertical-align: top;\n",
       "    }\n",
       "\n",
       "    .dataframe thead th {\n",
       "        text-align: right;\n",
       "    }\n",
       "</style>\n",
       "<table border=\"1\" class=\"dataframe\">\n",
       "  <thead>\n",
       "    <tr style=\"text-align: right;\">\n",
       "      <th></th>\n",
       "      <th>Mean</th>\n",
       "      <th>Standard Deviation</th>\n",
       "      <th>Median</th>\n",
       "      <th>Variance</th>\n",
       "    </tr>\n",
       "    <tr>\n",
       "      <th>Variable</th>\n",
       "      <th></th>\n",
       "      <th></th>\n",
       "      <th></th>\n",
       "      <th></th>\n",
       "    </tr>\n",
       "  </thead>\n",
       "  <tbody>\n",
       "    <tr>\n",
       "      <th>Annual Income (k$)</th>\n",
       "      <td>60.56</td>\n",
       "      <td>26.198977</td>\n",
       "      <td>61.5</td>\n",
       "      <td>686.3864</td>\n",
       "    </tr>\n",
       "  </tbody>\n",
       "</table>\n",
       "</div>"
      ],
      "text/plain": [
       "                     Mean  Standard Deviation  Median  Variance\n",
       "Variable                                                       \n",
       "Annual Income (k$)  60.56           26.198977    61.5  686.3864"
      ]
     },
     "execution_count": 19,
     "metadata": {},
     "output_type": "execute_result"
    }
   ],
   "source": [
    "income = cust[\"Annual Income (k$)\"]\n",
    "statistics(income)"
   ]
  },
  {
   "cell_type": "code",
   "execution_count": 20,
   "metadata": {
    "colab": {
     "base_uri": "https://localhost:8080/",
     "height": 296
    },
    "id": "vJDZ5RRl-5xI",
    "outputId": "63509b7c-20c2-48d9-c36b-d2243142312f"
   },
   "outputs": [
    {
     "name": "stderr",
     "output_type": "stream",
     "text": [
      "C:\\ProgramData\\Anaconda3\\lib\\site-packages\\seaborn\\distributions.py:2551: FutureWarning: `distplot` is a deprecated function and will be removed in a future version. Please adapt your code to use either `displot` (a figure-level function with similar flexibility) or `histplot` (an axes-level function for histograms).\n",
      "  warnings.warn(msg, FutureWarning)\n"
     ]
    },
    {
     "data": {
      "text/plain": [
       "<AxesSubplot:xlabel='Annual Income (k$)', ylabel='Density'>"
      ]
     },
     "execution_count": 20,
     "metadata": {},
     "output_type": "execute_result"
    },
    {
     "data": {
      "image/png": "[encoded data removed]",
      "text/plain": [
       "<Figure size 432x288 with 1 Axes>"
      ]
     },
     "metadata": {
      "needs_background": "light"
     },
     "output_type": "display_data"
    }
   ],
   "source": [
    "sns.distplot(cust[\"Annual Income (k$)\"], bins=10, kde_kws={\"lw\": 1.5, \"alpha\":0.8, \"color\":list(map(float, np.random.rand(3,)))},\n",
    "                       hist_kws={\"linewidth\": 1.5, \"edgecolor\": \"grey\",\n",
    "                                \"alpha\": 0.4, \"color\":list(map(float, np.random.rand(3,)))})"
   ]
  },
  {
   "cell_type": "code",
   "execution_count": 21,
   "metadata": {
    "colab": {
     "base_uri": "https://localhost:8080/",
     "height": 111
    },
    "id": "JnaH7uGJ-5uY",
    "outputId": "7d9a0944-b0ea-4a44-e2a9-1b371f55b30b"
   },
   "outputs": [
    {
     "data": {
      "text/html": [
       "<div>\n",
       "<style scoped>\n",
       "    .dataframe tbody tr th:only-of-type {\n",
       "        vertical-align: middle;\n",
       "    }\n",
       "\n",
       "    .dataframe tbody tr th {\n",
       "        vertical-align: top;\n",
       "    }\n",
       "\n",
       "    .dataframe thead th {\n",
       "        text-align: right;\n",
       "    }\n",
       "</style>\n",
       "<table border=\"1\" class=\"dataframe\">\n",
       "  <thead>\n",
       "    <tr style=\"text-align: right;\">\n",
       "      <th></th>\n",
       "      <th>Gender</th>\n",
       "    </tr>\n",
       "  </thead>\n",
       "  <tbody>\n",
       "    <tr>\n",
       "      <th>Female</th>\n",
       "      <td>112</td>\n",
       "    </tr>\n",
       "    <tr>\n",
       "      <th>Male</th>\n",
       "      <td>88</td>\n",
       "    </tr>\n",
       "  </tbody>\n",
       "</table>\n",
       "</div>"
      ],
      "text/plain": [
       "        Gender\n",
       "Female     112\n",
       "Male        88"
      ]
     },
     "execution_count": 21,
     "metadata": {},
     "output_type": "execute_result"
    }
   ],
   "source": [
    "gender = cust[\"Gender\"]\n",
    "statistics(gender)"
   ]
  },
  {
   "cell_type": "code",
   "execution_count": 22,
   "metadata": {
    "colab": {
     "base_uri": "https://localhost:8080/",
     "height": 386
    },
    "id": "GrSptZwQ-5oq",
    "outputId": "bf90490d-4c4b-4f37-aa8d-84065d38b48e"
   },
   "outputs": [
    {
     "data": {
      "text/plain": [
       "<seaborn.axisgrid.FacetGrid at 0x22bfc000700>"
      ]
     },
     "execution_count": 22,
     "metadata": {},
     "output_type": "execute_result"
    },
    {
     "data": {
      "image/png": "[encoded data removed]",
      "text/plain": [
       "<Figure size 360x360 with 1 Axes>"
      ]
     },
     "metadata": {
      "needs_background": "light"
     },
     "output_type": "display_data"
    }
   ],
   "source": [
    "gender = pd.DataFrame(cust[\"Gender\"])\n",
    "sns.catplot(x=gender.columns[0], kind=\"count\", palette=\"spring\", data=gender)"
   ]
  },
  {
   "cell_type": "code",
   "execution_count": 23,
   "metadata": {
    "colab": {
     "base_uri": "https://localhost:8080/",
     "height": 419
    },
    "id": "ObVAtbQCBMOA",
    "outputId": "486890c2-24d0-439b-f66c-897fc3293fa4"
   },
   "outputs": [
    {
     "data": {
      "text/html": [
       "<div>\n",
       "<style scoped>\n",
       "    .dataframe tbody tr th:only-of-type {\n",
       "        vertical-align: middle;\n",
       "    }\n",
       "\n",
       "    .dataframe tbody tr th {\n",
       "        vertical-align: top;\n",
       "    }\n",
       "\n",
       "    .dataframe thead th {\n",
       "        text-align: right;\n",
       "    }\n",
       "</style>\n",
       "<table border=\"1\" class=\"dataframe\">\n",
       "  <thead>\n",
       "    <tr style=\"text-align: right;\">\n",
       "      <th></th>\n",
       "      <th>Female</th>\n",
       "      <th>Male</th>\n",
       "    </tr>\n",
       "  </thead>\n",
       "  <tbody>\n",
       "    <tr>\n",
       "      <th>0</th>\n",
       "      <td>0</td>\n",
       "      <td>1</td>\n",
       "    </tr>\n",
       "    <tr>\n",
       "      <th>1</th>\n",
       "      <td>0</td>\n",
       "      <td>1</td>\n",
       "    </tr>\n",
       "    <tr>\n",
       "      <th>2</th>\n",
       "      <td>1</td>\n",
       "      <td>0</td>\n",
       "    </tr>\n",
       "    <tr>\n",
       "      <th>3</th>\n",
       "      <td>1</td>\n",
       "      <td>0</td>\n",
       "    </tr>\n",
       "    <tr>\n",
       "      <th>4</th>\n",
       "      <td>1</td>\n",
       "      <td>0</td>\n",
       "    </tr>\n",
       "    <tr>\n",
       "      <th>...</th>\n",
       "      <td>...</td>\n",
       "      <td>...</td>\n",
       "    </tr>\n",
       "    <tr>\n",
       "      <th>195</th>\n",
       "      <td>1</td>\n",
       "      <td>0</td>\n",
       "    </tr>\n",
       "    <tr>\n",
       "      <th>196</th>\n",
       "      <td>1</td>\n",
       "      <td>0</td>\n",
       "    </tr>\n",
       "    <tr>\n",
       "      <th>197</th>\n",
       "      <td>0</td>\n",
       "      <td>1</td>\n",
       "    </tr>\n",
       "    <tr>\n",
       "      <th>198</th>\n",
       "      <td>0</td>\n",
       "      <td>1</td>\n",
       "    </tr>\n",
       "    <tr>\n",
       "      <th>199</th>\n",
       "      <td>0</td>\n",
       "      <td>1</td>\n",
       "    </tr>\n",
       "  </tbody>\n",
       "</table>\n",
       "<p>200 rows × 2 columns</p>\n",
       "</div>"
      ],
      "text/plain": [
       "     Female  Male\n",
       "0         0     1\n",
       "1         0     1\n",
       "2         1     0\n",
       "3         1     0\n",
       "4         1     0\n",
       "..      ...   ...\n",
       "195       1     0\n",
       "196       1     0\n",
       "197       0     1\n",
       "198       0     1\n",
       "199       0     1\n",
       "\n",
       "[200 rows x 2 columns]"
      ]
     },
     "execution_count": 23,
     "metadata": {},
     "output_type": "execute_result"
    }
   ],
   "source": [
    "dummies = pd.get_dummies(cust['Gender'])\n",
    "dummies"
   ]
  },
  {
   "cell_type": "code",
   "execution_count": 24,
   "metadata": {
    "colab": {
     "base_uri": "https://localhost:8080/",
     "height": 419
    },
    "id": "RvLQhusZBMLh",
    "outputId": "c16db4bd-12d9-4d51-cdcf-9ea8219684fc"
   },
   "outputs": [
    {
     "data": {
      "text/html": [
       "<div>\n",
       "<style scoped>\n",
       "    .dataframe tbody tr th:only-of-type {\n",
       "        vertical-align: middle;\n",
       "    }\n",
       "\n",
       "    .dataframe tbody tr th {\n",
       "        vertical-align: top;\n",
       "    }\n",
       "\n",
       "    .dataframe thead th {\n",
       "        text-align: right;\n",
       "    }\n",
       "</style>\n",
       "<table border=\"1\" class=\"dataframe\">\n",
       "  <thead>\n",
       "    <tr style=\"text-align: right;\">\n",
       "      <th></th>\n",
       "      <th>CustomerID</th>\n",
       "      <th>Gender</th>\n",
       "      <th>Age</th>\n",
       "      <th>Annual Income (k$)</th>\n",
       "      <th>Spending Score (1-100)</th>\n",
       "      <th>Female</th>\n",
       "      <th>Male</th>\n",
       "    </tr>\n",
       "  </thead>\n",
       "  <tbody>\n",
       "    <tr>\n",
       "      <th>0</th>\n",
       "      <td>1</td>\n",
       "      <td>Male</td>\n",
       "      <td>19</td>\n",
       "      <td>15</td>\n",
       "      <td>39</td>\n",
       "      <td>0</td>\n",
       "      <td>1</td>\n",
       "    </tr>\n",
       "    <tr>\n",
       "      <th>1</th>\n",
       "      <td>2</td>\n",
       "      <td>Male</td>\n",
       "      <td>21</td>\n",
       "      <td>15</td>\n",
       "      <td>81</td>\n",
       "      <td>0</td>\n",
       "      <td>1</td>\n",
       "    </tr>\n",
       "    <tr>\n",
       "      <th>2</th>\n",
       "      <td>3</td>\n",
       "      <td>Female</td>\n",
       "      <td>20</td>\n",
       "      <td>16</td>\n",
       "      <td>6</td>\n",
       "      <td>1</td>\n",
       "      <td>0</td>\n",
       "    </tr>\n",
       "    <tr>\n",
       "      <th>3</th>\n",
       "      <td>4</td>\n",
       "      <td>Female</td>\n",
       "      <td>23</td>\n",
       "      <td>16</td>\n",
       "      <td>77</td>\n",
       "      <td>1</td>\n",
       "      <td>0</td>\n",
       "    </tr>\n",
       "    <tr>\n",
       "      <th>4</th>\n",
       "      <td>5</td>\n",
       "      <td>Female</td>\n",
       "      <td>31</td>\n",
       "      <td>17</td>\n",
       "      <td>40</td>\n",
       "      <td>1</td>\n",
       "      <td>0</td>\n",
       "    </tr>\n",
       "    <tr>\n",
       "      <th>...</th>\n",
       "      <td>...</td>\n",
       "      <td>...</td>\n",
       "      <td>...</td>\n",
       "      <td>...</td>\n",
       "      <td>...</td>\n",
       "      <td>...</td>\n",
       "      <td>...</td>\n",
       "    </tr>\n",
       "    <tr>\n",
       "      <th>195</th>\n",
       "      <td>196</td>\n",
       "      <td>Female</td>\n",
       "      <td>35</td>\n",
       "      <td>120</td>\n",
       "      <td>79</td>\n",
       "      <td>1</td>\n",
       "      <td>0</td>\n",
       "    </tr>\n",
       "    <tr>\n",
       "      <th>196</th>\n",
       "      <td>197</td>\n",
       "      <td>Female</td>\n",
       "      <td>45</td>\n",
       "      <td>126</td>\n",
       "      <td>28</td>\n",
       "      <td>1</td>\n",
       "      <td>0</td>\n",
       "    </tr>\n",
       "    <tr>\n",
       "      <th>197</th>\n",
       "      <td>198</td>\n",
       "      <td>Male</td>\n",
       "      <td>32</td>\n",
       "      <td>126</td>\n",
       "      <td>74</td>\n",
       "      <td>0</td>\n",
       "      <td>1</td>\n",
       "    </tr>\n",
       "    <tr>\n",
       "      <th>198</th>\n",
       "      <td>199</td>\n",
       "      <td>Male</td>\n",
       "      <td>32</td>\n",
       "      <td>137</td>\n",
       "      <td>18</td>\n",
       "      <td>0</td>\n",
       "      <td>1</td>\n",
       "    </tr>\n",
       "    <tr>\n",
       "      <th>199</th>\n",
       "      <td>200</td>\n",
       "      <td>Male</td>\n",
       "      <td>30</td>\n",
       "      <td>137</td>\n",
       "      <td>83</td>\n",
       "      <td>0</td>\n",
       "      <td>1</td>\n",
       "    </tr>\n",
       "  </tbody>\n",
       "</table>\n",
       "<p>200 rows × 7 columns</p>\n",
       "</div>"
      ],
      "text/plain": [
       "     CustomerID  Gender  Age  Annual Income (k$)  Spending Score (1-100)  \\\n",
       "0             1    Male   19                  15                      39   \n",
       "1             2    Male   21                  15                      81   \n",
       "2             3  Female   20                  16                       6   \n",
       "3             4  Female   23                  16                      77   \n",
       "4             5  Female   31                  17                      40   \n",
       "..          ...     ...  ...                 ...                     ...   \n",
       "195         196  Female   35                 120                      79   \n",
       "196         197  Female   45                 126                      28   \n",
       "197         198    Male   32                 126                      74   \n",
       "198         199    Male   32                 137                      18   \n",
       "199         200    Male   30                 137                      83   \n",
       "\n",
       "     Female  Male  \n",
       "0         0     1  \n",
       "1         0     1  \n",
       "2         1     0  \n",
       "3         1     0  \n",
       "4         1     0  \n",
       "..      ...   ...  \n",
       "195       1     0  \n",
       "196       1     0  \n",
       "197       0     1  \n",
       "198       0     1  \n",
       "199       0     1  \n",
       "\n",
       "[200 rows x 7 columns]"
      ]
     },
     "execution_count": 24,
     "metadata": {},
     "output_type": "execute_result"
    }
   ],
   "source": [
    "cust = cust.merge(dummies, left_index=True, right_index=True)\n",
    "cust"
   ]
  },
  {
   "cell_type": "code",
   "execution_count": 25,
   "metadata": {
    "colab": {
     "base_uri": "https://localhost:8080/",
     "height": 419
    },
    "id": "ih_YyAXhBMJR",
    "outputId": "f38585df-8140-4d09-af34-e4e51828221f"
   },
   "outputs": [
    {
     "data": {
      "text/html": [
       "<div>\n",
       "<style scoped>\n",
       "    .dataframe tbody tr th:only-of-type {\n",
       "        vertical-align: middle;\n",
       "    }\n",
       "\n",
       "    .dataframe tbody tr th {\n",
       "        vertical-align: top;\n",
       "    }\n",
       "\n",
       "    .dataframe thead th {\n",
       "        text-align: right;\n",
       "    }\n",
       "</style>\n",
       "<table border=\"1\" class=\"dataframe\">\n",
       "  <thead>\n",
       "    <tr style=\"text-align: right;\">\n",
       "      <th></th>\n",
       "      <th>Age</th>\n",
       "      <th>Annual Income (k$)</th>\n",
       "      <th>Spending Score (1-100)</th>\n",
       "      <th>Female</th>\n",
       "      <th>Male</th>\n",
       "    </tr>\n",
       "  </thead>\n",
       "  <tbody>\n",
       "    <tr>\n",
       "      <th>0</th>\n",
       "      <td>19</td>\n",
       "      <td>15</td>\n",
       "      <td>39</td>\n",
       "      <td>0</td>\n",
       "      <td>1</td>\n",
       "    </tr>\n",
       "    <tr>\n",
       "      <th>1</th>\n",
       "      <td>21</td>\n",
       "      <td>15</td>\n",
       "      <td>81</td>\n",
       "      <td>0</td>\n",
       "      <td>1</td>\n",
       "    </tr>\n",
       "    <tr>\n",
       "      <th>2</th>\n",
       "      <td>20</td>\n",
       "      <td>16</td>\n",
       "      <td>6</td>\n",
       "      <td>1</td>\n",
       "      <td>0</td>\n",
       "    </tr>\n",
       "    <tr>\n",
       "      <th>3</th>\n",
       "      <td>23</td>\n",
       "      <td>16</td>\n",
       "      <td>77</td>\n",
       "      <td>1</td>\n",
       "      <td>0</td>\n",
       "    </tr>\n",
       "    <tr>\n",
       "      <th>4</th>\n",
       "      <td>31</td>\n",
       "      <td>17</td>\n",
       "      <td>40</td>\n",
       "      <td>1</td>\n",
       "      <td>0</td>\n",
       "    </tr>\n",
       "    <tr>\n",
       "      <th>...</th>\n",
       "      <td>...</td>\n",
       "      <td>...</td>\n",
       "      <td>...</td>\n",
       "      <td>...</td>\n",
       "      <td>...</td>\n",
       "    </tr>\n",
       "    <tr>\n",
       "      <th>195</th>\n",
       "      <td>35</td>\n",
       "      <td>120</td>\n",
       "      <td>79</td>\n",
       "      <td>1</td>\n",
       "      <td>0</td>\n",
       "    </tr>\n",
       "    <tr>\n",
       "      <th>196</th>\n",
       "      <td>45</td>\n",
       "      <td>126</td>\n",
       "      <td>28</td>\n",
       "      <td>1</td>\n",
       "      <td>0</td>\n",
       "    </tr>\n",
       "    <tr>\n",
       "      <th>197</th>\n",
       "      <td>32</td>\n",
       "      <td>126</td>\n",
       "      <td>74</td>\n",
       "      <td>0</td>\n",
       "      <td>1</td>\n",
       "    </tr>\n",
       "    <tr>\n",
       "      <th>198</th>\n",
       "      <td>32</td>\n",
       "      <td>137</td>\n",
       "      <td>18</td>\n",
       "      <td>0</td>\n",
       "      <td>1</td>\n",
       "    </tr>\n",
       "    <tr>\n",
       "      <th>199</th>\n",
       "      <td>30</td>\n",
       "      <td>137</td>\n",
       "      <td>83</td>\n",
       "      <td>0</td>\n",
       "      <td>1</td>\n",
       "    </tr>\n",
       "  </tbody>\n",
       "</table>\n",
       "<p>200 rows × 5 columns</p>\n",
       "</div>"
      ],
      "text/plain": [
       "     Age  Annual Income (k$)  Spending Score (1-100)  Female  Male\n",
       "0     19                  15                      39       0     1\n",
       "1     21                  15                      81       0     1\n",
       "2     20                  16                       6       1     0\n",
       "3     23                  16                      77       1     0\n",
       "4     31                  17                      40       1     0\n",
       "..   ...                 ...                     ...     ...   ...\n",
       "195   35                 120                      79       1     0\n",
       "196   45                 126                      28       1     0\n",
       "197   32                 126                      74       0     1\n",
       "198   32                 137                      18       0     1\n",
       "199   30                 137                      83       0     1\n",
       "\n",
       "[200 rows x 5 columns]"
      ]
     },
     "execution_count": 25,
     "metadata": {},
     "output_type": "execute_result"
    }
   ],
   "source": [
    "new_cust = cust.iloc[:,2:]\n",
    "new_cust"
   ]
  },
  {
   "cell_type": "markdown",
   "metadata": {
    "id": "-_187E32CPLp"
   },
   "source": [
    "#### WCSS = Within Cluster Sum of Squares. The goal is to minimize WCSS using K-Means Clustering Algorithm"
   ]
  },
  {
   "cell_type": "code",
   "execution_count": 26,
   "metadata": {
    "colab": {
     "base_uri": "https://localhost:8080/",
     "height": 299
    },
    "id": "qcgrQVOxBMEB",
    "outputId": "7c4b8488-1224-4836-aab0-4757d4a7545f"
   },
   "outputs": [
    {
     "data": {
      "image/png": "[encoded data removed]",
      "text/plain": [
       "<Figure size 432x288 with 1 Axes>"
      ]
     },
     "metadata": {
      "needs_background": "light"
     },
     "output_type": "display_data"
    }
   ],
   "source": [
    "wcss = []\n",
    "for i in range(1,11):\n",
    "    km = KMeans(n_clusters=i,init='k-means++', max_iter=300, n_init=10, random_state=0)\n",
    "    km.fit(new_cust)\n",
    "    wcss.append(km.inertia_)\n",
    "plt.plot(range(1,11),wcss, c=\"#c51b7d\")\n",
    "plt.title('Elbow Method', size=14)\n",
    "plt.xlabel('Number of clusters', size=12)\n",
    "plt.ylabel('wcss', size=14)\n",
    "plt.show()"
   ]
  },
  {
   "cell_type": "code",
   "execution_count": 27,
   "metadata": {
    "id": "CbrBNodgDXTI"
   },
   "outputs": [],
   "source": [
    "kmeans = KMeans(n_clusters=5, init='k-means++', max_iter=10, n_init=10, random_state=0)"
   ]
  },
  {
   "cell_type": "code",
   "execution_count": 28,
   "metadata": {
    "colab": {
     "base_uri": "https://localhost:8080/",
     "height": 68
    },
    "id": "LHy8_jcXDXQu",
    "outputId": "17fe940f-eef6-4848-ba90-45456a2efa32"
   },
   "outputs": [
    {
     "data": {
      "text/plain": [
       "KMeans(max_iter=10, n_clusters=5, random_state=0)"
      ]
     },
     "execution_count": 28,
     "metadata": {},
     "output_type": "execute_result"
    }
   ],
   "source": [
    "kmeans.fit(new_cust)"
   ]
  },
  {
   "cell_type": "code",
   "execution_count": 29,
   "metadata": {
    "colab": {
     "base_uri": "https://localhost:8080/",
     "height": 204
    },
    "id": "r_t0ew5xDXOA",
    "outputId": "047066c8-e073-4a71-bc19-3107f7918dd4"
   },
   "outputs": [
    {
     "data": {
      "text/html": [
       "<div>\n",
       "<style scoped>\n",
       "    .dataframe tbody tr th:only-of-type {\n",
       "        vertical-align: middle;\n",
       "    }\n",
       "\n",
       "    .dataframe tbody tr th {\n",
       "        vertical-align: top;\n",
       "    }\n",
       "\n",
       "    .dataframe thead th {\n",
       "        text-align: right;\n",
       "    }\n",
       "</style>\n",
       "<table border=\"1\" class=\"dataframe\">\n",
       "  <thead>\n",
       "    <tr style=\"text-align: right;\">\n",
       "      <th></th>\n",
       "      <th>Age</th>\n",
       "      <th>Annual Income</th>\n",
       "      <th>Spending</th>\n",
       "      <th>Male</th>\n",
       "      <th>Female</th>\n",
       "      <th>ClusterID</th>\n",
       "    </tr>\n",
       "  </thead>\n",
       "  <tbody>\n",
       "    <tr>\n",
       "      <th>0</th>\n",
       "      <td>45.217391</td>\n",
       "      <td>26.304348</td>\n",
       "      <td>20.913043</td>\n",
       "      <td>0.608696</td>\n",
       "      <td>0.391304</td>\n",
       "      <td>0</td>\n",
       "    </tr>\n",
       "    <tr>\n",
       "      <th>1</th>\n",
       "      <td>43.088608</td>\n",
       "      <td>55.291139</td>\n",
       "      <td>49.569620</td>\n",
       "      <td>0.582278</td>\n",
       "      <td>0.417722</td>\n",
       "      <td>1</td>\n",
       "    </tr>\n",
       "    <tr>\n",
       "      <th>2</th>\n",
       "      <td>32.692308</td>\n",
       "      <td>86.538462</td>\n",
       "      <td>82.128205</td>\n",
       "      <td>0.538462</td>\n",
       "      <td>0.461538</td>\n",
       "      <td>2</td>\n",
       "    </tr>\n",
       "    <tr>\n",
       "      <th>3</th>\n",
       "      <td>40.666667</td>\n",
       "      <td>87.750000</td>\n",
       "      <td>17.583333</td>\n",
       "      <td>0.472222</td>\n",
       "      <td>0.527778</td>\n",
       "      <td>3</td>\n",
       "    </tr>\n",
       "    <tr>\n",
       "      <th>4</th>\n",
       "      <td>25.521739</td>\n",
       "      <td>26.304348</td>\n",
       "      <td>78.565217</td>\n",
       "      <td>0.608696</td>\n",
       "      <td>0.391304</td>\n",
       "      <td>4</td>\n",
       "    </tr>\n",
       "  </tbody>\n",
       "</table>\n",
       "</div>"
      ],
      "text/plain": [
       "         Age  Annual Income   Spending      Male    Female  ClusterID\n",
       "0  45.217391      26.304348  20.913043  0.608696  0.391304          0\n",
       "1  43.088608      55.291139  49.569620  0.582278  0.417722          1\n",
       "2  32.692308      86.538462  82.128205  0.538462  0.461538          2\n",
       "3  40.666667      87.750000  17.583333  0.472222  0.527778          3\n",
       "4  25.521739      26.304348  78.565217  0.608696  0.391304          4"
      ]
     },
     "execution_count": 29,
     "metadata": {},
     "output_type": "execute_result"
    }
   ],
   "source": [
    "centroids = pd.DataFrame(kmeans.cluster_centers_, columns = [\"Age\", \"Annual Income\", \"Spending\", \"Male\", \"Female\"])\n",
    "centroids.index_name = \"ClusterID\"\n",
    "centroids[\"ClusterID\"] = centroids.index\n",
    "centroids = centroids.reset_index(drop=True)\n",
    "centroids"
   ]
  },
  {
   "cell_type": "code",
   "execution_count": 30,
   "metadata": {
    "colab": {
     "base_uri": "https://localhost:8080/",
     "height": 34
    },
    "id": "4C55a2bGEDxu",
    "outputId": "0699ff56-ae0a-4afe-c19b-13b6316e5b79"
   },
   "outputs": [
    {
     "name": "stdout",
     "output_type": "stream",
     "text": [
      "The new customer belongs to segment(Cluster) 1\n"
     ]
    }
   ],
   "source": [
    "X_new = np.array([[43, 76, 56, 0, 1]]) \n",
    " \n",
    "new_customer = kmeans.predict(X_new)\n",
    "print(f\"The new customer belongs to segment(Cluster) {new_customer[0]}\")"
   ]
  },
  {
   "cell_type": "markdown",
   "metadata": {
    "id": "jFY1ORsD6Md_"
   },
   "source": [
    "# Hierarchical Clustering"
   ]
  },
  {
   "cell_type": "code",
   "execution_count": 31,
   "metadata": {
    "id": "r8KrnPVJ6POG"
   },
   "outputs": [],
   "source": [
    "from scipy.spatial.distance import pdist, squareform\n",
    "from scipy.cluster.hierarchy import linkage, dendrogram\n",
    "from sklearn.preprocessing import StandardScaler"
   ]
  },
  {
   "cell_type": "code",
   "execution_count": 32,
   "metadata": {
    "colab": {
     "base_uri": "https://localhost:8080/",
     "height": 1000
    },
    "id": "uMzb7kj1FQM4",
    "outputId": "3c2b1944-293f-4889-a681-49136a2208be"
   },
   "outputs": [
    {
     "data": {
      "text/plain": [
       "array([[-1.42456879, -1.73899919, -0.43480148, -1.12815215,  1.12815215],\n",
       "       [-1.28103541, -1.73899919,  1.19570407, -1.12815215,  1.12815215],\n",
       "       [-1.3528021 , -1.70082976, -1.71591298,  0.88640526, -0.88640526],\n",
       "       [-1.13750203, -1.70082976,  1.04041783,  0.88640526, -0.88640526],\n",
       "       [-0.56336851, -1.66266033, -0.39597992,  0.88640526, -0.88640526],\n",
       "       [-1.20926872, -1.66266033,  1.00159627,  0.88640526, -0.88640526],\n",
       "       [-0.27630176, -1.62449091, -1.71591298,  0.88640526, -0.88640526],\n",
       "       [-1.13750203, -1.62449091,  1.70038436,  0.88640526, -0.88640526],\n",
       "       [ 1.80493225, -1.58632148, -1.83237767, -1.12815215,  1.12815215],\n",
       "       [-0.6351352 , -1.58632148,  0.84631002,  0.88640526, -0.88640526],\n",
       "       [ 2.02023231, -1.58632148, -1.4053405 , -1.12815215,  1.12815215],\n",
       "       [-0.27630176, -1.58632148,  1.89449216,  0.88640526, -0.88640526],\n",
       "       [ 1.37433211, -1.54815205, -1.36651894,  0.88640526, -0.88640526],\n",
       "       [-1.06573534, -1.54815205,  1.04041783,  0.88640526, -0.88640526],\n",
       "       [-0.13276838, -1.54815205, -1.44416206, -1.12815215,  1.12815215],\n",
       "       [-1.20926872, -1.54815205,  1.11806095, -1.12815215,  1.12815215],\n",
       "       [-0.27630176, -1.50998262, -0.59008772,  0.88640526, -0.88640526],\n",
       "       [-1.3528021 , -1.50998262,  0.61338066, -1.12815215,  1.12815215],\n",
       "       [ 0.94373197, -1.43364376, -0.82301709, -1.12815215,  1.12815215],\n",
       "       [-0.27630176, -1.43364376,  1.8556706 ,  0.88640526, -0.88640526],\n",
       "       [-0.27630176, -1.39547433, -0.59008772, -1.12815215,  1.12815215],\n",
       "       [-0.99396865, -1.39547433,  0.88513158, -1.12815215,  1.12815215],\n",
       "       [ 0.51313183, -1.3573049 , -1.75473454,  0.88640526, -0.88640526],\n",
       "       [-0.56336851, -1.3573049 ,  0.88513158, -1.12815215,  1.12815215],\n",
       "       [ 1.08726535, -1.24279661, -1.4053405 ,  0.88640526, -0.88640526],\n",
       "       [-0.70690189, -1.24279661,  1.23452563, -1.12815215,  1.12815215],\n",
       "       [ 0.44136514, -1.24279661, -0.7065524 ,  0.88640526, -0.88640526],\n",
       "       [-0.27630176, -1.24279661,  0.41927286, -1.12815215,  1.12815215],\n",
       "       [ 0.08253169, -1.20462718, -0.74537397,  0.88640526, -0.88640526],\n",
       "       [-1.13750203, -1.20462718,  1.42863343,  0.88640526, -0.88640526],\n",
       "       [ 1.51786549, -1.16645776, -1.7935561 , -1.12815215,  1.12815215],\n",
       "       [-1.28103541, -1.16645776,  0.88513158,  0.88640526, -0.88640526],\n",
       "       [ 1.01549866, -1.05194947, -1.7935561 , -1.12815215,  1.12815215],\n",
       "       [-1.49633548, -1.05194947,  1.62274124, -1.12815215,  1.12815215],\n",
       "       [ 0.7284319 , -1.05194947, -1.4053405 ,  0.88640526, -0.88640526],\n",
       "       [-1.28103541, -1.05194947,  1.19570407,  0.88640526, -0.88640526],\n",
       "       [ 0.22606507, -1.01378004, -1.28887582,  0.88640526, -0.88640526],\n",
       "       [-0.6351352 , -1.01378004,  0.88513158,  0.88640526, -0.88640526],\n",
       "       [-0.20453507, -0.89927175, -0.93948177,  0.88640526, -0.88640526],\n",
       "       [-1.3528021 , -0.89927175,  0.96277471,  0.88640526, -0.88640526],\n",
       "       [ 1.87669894, -0.86110232, -0.59008772,  0.88640526, -0.88640526],\n",
       "       [-1.06573534, -0.86110232,  1.62274124, -1.12815215,  1.12815215],\n",
       "       [ 0.65666521, -0.82293289, -0.55126616, -1.12815215,  1.12815215],\n",
       "       [-0.56336851, -0.82293289,  0.41927286,  0.88640526, -0.88640526],\n",
       "       [ 0.7284319 , -0.82293289, -0.86183865,  0.88640526, -0.88640526],\n",
       "       [-1.06573534, -0.82293289,  0.5745591 ,  0.88640526, -0.88640526],\n",
       "       [ 0.80019859, -0.78476346,  0.18634349,  0.88640526, -0.88640526],\n",
       "       [-0.85043527, -0.78476346, -0.12422899,  0.88640526, -0.88640526],\n",
       "       [-0.70690189, -0.78476346, -0.3183368 ,  0.88640526, -0.88640526],\n",
       "       [-0.56336851, -0.78476346, -0.3183368 ,  0.88640526, -0.88640526],\n",
       "       [ 0.7284319 , -0.70842461,  0.06987881,  0.88640526, -0.88640526],\n",
       "       [-0.41983513, -0.70842461,  0.38045129, -1.12815215,  1.12815215],\n",
       "       [-0.56336851, -0.67025518,  0.14752193,  0.88640526, -0.88640526],\n",
       "       [ 1.4460988 , -0.67025518,  0.38045129, -1.12815215,  1.12815215],\n",
       "       [ 0.80019859, -0.67025518, -0.20187212,  0.88640526, -0.88640526],\n",
       "       [ 0.58489852, -0.67025518, -0.35715836, -1.12815215,  1.12815215],\n",
       "       [ 0.87196528, -0.63208575, -0.00776431,  0.88640526, -0.88640526],\n",
       "       [ 2.16376569, -0.63208575, -0.16305055, -1.12815215,  1.12815215],\n",
       "       [-0.85043527, -0.55574689,  0.03105725,  0.88640526, -0.88640526],\n",
       "       [ 1.01549866, -0.55574689, -0.16305055, -1.12815215,  1.12815215],\n",
       "       [ 2.23553238, -0.55574689,  0.22516505, -1.12815215,  1.12815215],\n",
       "       [-1.42456879, -0.55574689,  0.18634349, -1.12815215,  1.12815215],\n",
       "       [ 2.02023231, -0.51757746,  0.06987881,  0.88640526, -0.88640526],\n",
       "       [ 1.08726535, -0.51757746,  0.34162973,  0.88640526, -0.88640526],\n",
       "       [ 1.73316556, -0.47940803,  0.03105725, -1.12815215,  1.12815215],\n",
       "       [-1.49633548, -0.47940803,  0.34162973, -1.12815215,  1.12815215],\n",
       "       [ 0.29783176, -0.47940803, -0.00776431,  0.88640526, -0.88640526],\n",
       "       [ 2.091999  , -0.47940803, -0.08540743,  0.88640526, -0.88640526],\n",
       "       [-1.42456879, -0.47940803,  0.34162973, -1.12815215,  1.12815215],\n",
       "       [-0.49160182, -0.47940803, -0.12422899,  0.88640526, -0.88640526],\n",
       "       [ 2.23553238, -0.4412386 ,  0.18634349, -1.12815215,  1.12815215],\n",
       "       [ 0.58489852, -0.4412386 , -0.3183368 ,  0.88640526, -0.88640526],\n",
       "       [ 1.51786549, -0.40306917, -0.04658587,  0.88640526, -0.88640526],\n",
       "       [ 1.51786549, -0.40306917,  0.22516505,  0.88640526, -0.88640526],\n",
       "       [ 1.4460988 , -0.25039146, -0.12422899, -1.12815215,  1.12815215],\n",
       "       [-0.92220196, -0.25039146,  0.14752193, -1.12815215,  1.12815215],\n",
       "       [ 0.44136514, -0.25039146,  0.10870037,  0.88640526, -0.88640526],\n",
       "       [ 0.08253169, -0.25039146, -0.08540743, -1.12815215,  1.12815215],\n",
       "       [-1.13750203, -0.25039146,  0.06987881,  0.88640526, -0.88640526],\n",
       "       [ 0.7284319 , -0.25039146, -0.3183368 ,  0.88640526, -0.88640526],\n",
       "       [ 1.30256542, -0.25039146,  0.03105725, -1.12815215,  1.12815215],\n",
       "       [-0.06100169, -0.25039146,  0.18634349, -1.12815215,  1.12815215],\n",
       "       [ 2.02023231, -0.25039146, -0.35715836, -1.12815215,  1.12815215],\n",
       "       [ 0.51313183, -0.25039146, -0.24069368,  0.88640526, -0.88640526],\n",
       "       [-1.28103541, -0.25039146,  0.26398661,  0.88640526, -0.88640526],\n",
       "       [ 0.65666521, -0.25039146, -0.16305055, -1.12815215,  1.12815215],\n",
       "       [ 1.15903204, -0.13588317,  0.30280817,  0.88640526, -0.88640526],\n",
       "       [-1.20926872, -0.13588317,  0.18634349,  0.88640526, -0.88640526],\n",
       "       [-0.34806844, -0.09771374,  0.38045129,  0.88640526, -0.88640526],\n",
       "       [ 0.80019859, -0.09771374, -0.16305055,  0.88640526, -0.88640526],\n",
       "       [ 2.091999  , -0.05954431,  0.18634349,  0.88640526, -0.88640526],\n",
       "       [-1.49633548, -0.05954431, -0.35715836, -1.12815215,  1.12815215],\n",
       "       [ 0.65666521, -0.02137488, -0.04658587, -1.12815215,  1.12815215],\n",
       "       [ 0.08253169, -0.02137488, -0.39597992,  0.88640526, -0.88640526],\n",
       "       [-0.49160182, -0.02137488, -0.3183368 ,  0.88640526, -0.88640526],\n",
       "       [-1.06573534, -0.02137488,  0.06987881, -1.12815215,  1.12815215],\n",
       "       [ 0.58489852, -0.02137488, -0.12422899,  0.88640526, -0.88640526],\n",
       "       [-0.85043527, -0.02137488, -0.00776431,  0.88640526, -0.88640526],\n",
       "       [ 0.65666521,  0.01679455, -0.3183368 , -1.12815215,  1.12815215],\n",
       "       [-1.3528021 ,  0.01679455, -0.04658587, -1.12815215,  1.12815215],\n",
       "       [-1.13750203,  0.05496398, -0.35715836,  0.88640526, -0.88640526],\n",
       "       [ 0.7284319 ,  0.05496398, -0.08540743,  0.88640526, -0.88640526],\n",
       "       [ 2.02023231,  0.05496398,  0.34162973, -1.12815215,  1.12815215],\n",
       "       [-0.92220196,  0.05496398,  0.18634349, -1.12815215,  1.12815215],\n",
       "       [ 0.7284319 ,  0.05496398,  0.22516505, -1.12815215,  1.12815215],\n",
       "       [-1.28103541,  0.05496398, -0.3183368 ,  0.88640526, -0.88640526],\n",
       "       [ 1.94846562,  0.09313341, -0.00776431,  0.88640526, -0.88640526],\n",
       "       [ 1.08726535,  0.09313341, -0.16305055, -1.12815215,  1.12815215],\n",
       "       [ 2.091999  ,  0.09313341, -0.27951524, -1.12815215,  1.12815215],\n",
       "       [ 1.94846562,  0.09313341, -0.08540743, -1.12815215,  1.12815215],\n",
       "       [ 1.87669894,  0.09313341,  0.06987881, -1.12815215,  1.12815215],\n",
       "       [-1.42456879,  0.09313341,  0.14752193,  0.88640526, -0.88640526],\n",
       "       [-0.06100169,  0.13130284, -0.3183368 ,  0.88640526, -0.88640526],\n",
       "       [-1.42456879,  0.13130284, -0.16305055, -1.12815215,  1.12815215],\n",
       "       [-1.49633548,  0.16947227, -0.08540743,  0.88640526, -0.88640526],\n",
       "       [-1.42456879,  0.16947227, -0.00776431,  0.88640526, -0.88640526],\n",
       "       [ 1.73316556,  0.16947227, -0.27951524,  0.88640526, -0.88640526],\n",
       "       [ 0.7284319 ,  0.16947227,  0.34162973,  0.88640526, -0.88640526],\n",
       "       [ 0.87196528,  0.24581112, -0.27951524,  0.88640526, -0.88640526],\n",
       "       [ 0.80019859,  0.24581112,  0.26398661,  0.88640526, -0.88640526],\n",
       "       [-0.85043527,  0.24581112,  0.22516505, -1.12815215,  1.12815215],\n",
       "       [-0.06100169,  0.24581112, -0.39597992,  0.88640526, -0.88640526],\n",
       "       [ 0.08253169,  0.32214998,  0.30280817,  0.88640526, -0.88640526],\n",
       "       [ 0.010765  ,  0.32214998,  1.58391968, -1.12815215,  1.12815215],\n",
       "       [-1.13750203,  0.36031941, -0.82301709,  0.88640526, -0.88640526],\n",
       "       [-0.56336851,  0.36031941,  1.04041783,  0.88640526, -0.88640526],\n",
       "       [ 0.29783176,  0.39848884, -0.59008772, -1.12815215,  1.12815215],\n",
       "       [ 0.08253169,  0.39848884,  1.73920592, -1.12815215,  1.12815215],\n",
       "       [ 1.4460988 ,  0.39848884, -1.52180518, -1.12815215,  1.12815215],\n",
       "       [-0.06100169,  0.39848884,  0.96277471, -1.12815215,  1.12815215],\n",
       "       [ 0.58489852,  0.39848884, -1.5994483 , -1.12815215,  1.12815215],\n",
       "       [ 0.010765  ,  0.39848884,  0.96277471, -1.12815215,  1.12815215],\n",
       "       [-0.99396865,  0.43665827, -0.62890928,  0.88640526, -0.88640526],\n",
       "       [-0.56336851,  0.43665827,  0.80748846,  0.88640526, -0.88640526],\n",
       "       [-1.3528021 ,  0.4748277 , -1.75473454, -1.12815215,  1.12815215],\n",
       "       [-0.70690189,  0.4748277 ,  1.46745499,  0.88640526, -0.88640526],\n",
       "       [ 0.36959845,  0.4748277 , -1.67709142,  0.88640526, -0.88640526],\n",
       "       [-0.49160182,  0.4748277 ,  0.88513158, -1.12815215,  1.12815215],\n",
       "       [-1.42456879,  0.51299713, -1.56062674, -1.12815215,  1.12815215],\n",
       "       [-0.27630176,  0.51299713,  0.84631002,  0.88640526, -0.88640526],\n",
       "       [ 1.30256542,  0.55116656, -1.75473454,  0.88640526, -0.88640526],\n",
       "       [-0.49160182,  0.55116656,  1.6615628 , -1.12815215,  1.12815215],\n",
       "       [-0.77866858,  0.58933599, -0.39597992,  0.88640526, -0.88640526],\n",
       "       [-0.49160182,  0.58933599,  1.42863343,  0.88640526, -0.88640526],\n",
       "       [-0.99396865,  0.62750542, -1.48298362, -1.12815215,  1.12815215],\n",
       "       [-0.77866858,  0.62750542,  1.81684904, -1.12815215,  1.12815215],\n",
       "       [ 0.65666521,  0.62750542, -0.55126616, -1.12815215,  1.12815215],\n",
       "       [-0.49160182,  0.62750542,  0.92395314,  0.88640526, -0.88640526],\n",
       "       [-0.34806844,  0.66567484, -1.09476801,  0.88640526, -0.88640526],\n",
       "       [-0.34806844,  0.66567484,  1.54509812, -1.12815215,  1.12815215],\n",
       "       [ 0.29783176,  0.66567484, -1.28887582, -1.12815215,  1.12815215],\n",
       "       [ 0.010765  ,  0.66567484,  1.46745499, -1.12815215,  1.12815215],\n",
       "       [ 0.36959845,  0.66567484, -1.17241113,  0.88640526, -0.88640526],\n",
       "       [-0.06100169,  0.66567484,  1.00159627,  0.88640526, -0.88640526],\n",
       "       [ 0.58489852,  0.66567484, -1.32769738,  0.88640526, -0.88640526],\n",
       "       [-0.85043527,  0.66567484,  1.50627656,  0.88640526, -0.88640526],\n",
       "       [-0.13276838,  0.66567484, -1.91002079, -1.12815215,  1.12815215],\n",
       "       [-0.6351352 ,  0.66567484,  1.07923939,  0.88640526, -0.88640526],\n",
       "       [-0.34806844,  0.66567484, -1.91002079, -1.12815215,  1.12815215],\n",
       "       [-0.6351352 ,  0.66567484,  0.88513158,  0.88640526, -0.88640526],\n",
       "       [ 1.23079873,  0.70384427, -0.59008772,  0.88640526, -0.88640526],\n",
       "       [-0.70690189,  0.70384427,  1.27334719,  0.88640526, -0.88640526],\n",
       "       [-1.42456879,  0.78018313, -1.75473454, -1.12815215,  1.12815215],\n",
       "       [-0.56336851,  0.78018313,  1.6615628 ,  0.88640526, -0.88640526],\n",
       "       [ 0.80019859,  0.93286085, -0.93948177, -1.12815215,  1.12815215],\n",
       "       [-0.20453507,  0.93286085,  0.96277471,  0.88640526, -0.88640526],\n",
       "       [ 0.22606507,  0.97103028, -1.17241113, -1.12815215,  1.12815215],\n",
       "       [-0.41983513,  0.97103028,  1.73920592,  0.88640526, -0.88640526],\n",
       "       [-0.20453507,  1.00919971, -0.90066021,  0.88640526, -0.88640526],\n",
       "       [-0.49160182,  1.00919971,  0.49691598, -1.12815215,  1.12815215],\n",
       "       [ 0.08253169,  1.00919971, -1.44416206, -1.12815215,  1.12815215],\n",
       "       [-0.77866858,  1.00919971,  0.96277471, -1.12815215,  1.12815215],\n",
       "       [-0.20453507,  1.00919971, -1.56062674, -1.12815215,  1.12815215],\n",
       "       [-0.20453507,  1.00919971,  1.62274124, -1.12815215,  1.12815215],\n",
       "       [ 0.94373197,  1.04736914, -1.44416206,  0.88640526, -0.88640526],\n",
       "       [-0.6351352 ,  1.04736914,  1.38981187,  0.88640526, -0.88640526],\n",
       "       [ 1.37433211,  1.04736914, -1.36651894, -1.12815215,  1.12815215],\n",
       "       [-0.85043527,  1.04736914,  0.72984534, -1.12815215,  1.12815215],\n",
       "       [ 1.4460988 ,  1.23821628, -1.4053405 , -1.12815215,  1.12815215],\n",
       "       [-0.27630176,  1.23821628,  1.54509812, -1.12815215,  1.12815215],\n",
       "       [-0.13276838,  1.390894  , -0.7065524 ,  0.88640526, -0.88640526],\n",
       "       [-0.49160182,  1.390894  ,  1.38981187,  0.88640526, -0.88640526],\n",
       "       [ 0.51313183,  1.42906343, -1.36651894, -1.12815215,  1.12815215],\n",
       "       [-0.70690189,  1.42906343,  1.46745499,  0.88640526, -0.88640526],\n",
       "       [ 0.15429838,  1.46723286, -0.43480148,  0.88640526, -0.88640526],\n",
       "       [-0.6351352 ,  1.46723286,  1.81684904, -1.12815215,  1.12815215],\n",
       "       [ 1.08726535,  1.54357172, -1.01712489,  0.88640526, -0.88640526],\n",
       "       [-0.77866858,  1.54357172,  0.69102378, -1.12815215,  1.12815215],\n",
       "       [ 0.15429838,  1.61991057, -1.28887582,  0.88640526, -0.88640526],\n",
       "       [-0.20453507,  1.61991057,  1.35099031,  0.88640526, -0.88640526],\n",
       "       [-0.34806844,  1.61991057, -1.05594645,  0.88640526, -0.88640526],\n",
       "       [-0.49160182,  1.61991057,  0.72984534,  0.88640526, -0.88640526],\n",
       "       [-0.41983513,  2.00160487, -1.63826986, -1.12815215,  1.12815215],\n",
       "       [-0.06100169,  2.00160487,  1.58391968,  0.88640526, -0.88640526],\n",
       "       [ 0.58489852,  2.26879087, -1.32769738,  0.88640526, -0.88640526],\n",
       "       [-0.27630176,  2.26879087,  1.11806095,  0.88640526, -0.88640526],\n",
       "       [ 0.44136514,  2.49780745, -0.86183865,  0.88640526, -0.88640526],\n",
       "       [-0.49160182,  2.49780745,  0.92395314, -1.12815215,  1.12815215],\n",
       "       [-0.49160182,  2.91767117, -1.25005425, -1.12815215,  1.12815215],\n",
       "       [-0.6351352 ,  2.91767117,  1.27334719, -1.12815215,  1.12815215]])"
      ]
     },
     "execution_count": 32,
     "metadata": {},
     "output_type": "execute_result"
    }
   ],
   "source": [
    "scalar = StandardScaler().fit(new_cust)\n",
    "X = scalar.transform(new_cust)\n",
    "X"
   ]
  },
  {
   "cell_type": "code",
   "execution_count": 33,
   "metadata": {
    "colab": {
     "base_uri": "https://localhost:8080/",
     "height": 1000
    },
    "id": "FC_rAiz_FV5e",
    "outputId": "343e9fab-b6b6-4ae0-b445-35cfac27ed81"
   },
   "outputs": [
    {
     "name": "stdout",
     "output_type": "stream",
     "text": [
      "[[0.         1.63681098 3.12485794 ... 4.54611614 4.81867651 5.02250496]\n",
      " [1.63681098 0.         4.07443301 ... 4.3182849  5.31878915 4.70189264]\n",
      " [3.12485794 4.07443301 0.         ... 5.78411589 5.51417485 6.23683863]\n",
      " ...\n",
      " [4.54611614 4.3182849  5.78411589 ... 0.         2.21418015 0.5647686 ]\n",
      " [4.81867651 5.31878915 5.51417485 ... 2.21418015 0.         2.5274803 ]\n",
      " [5.02250496 4.70189264 6.23683863 ... 0.5647686  2.5274803  0.        ]]\n",
      "[[3.00000000e+00 5.00000000e+00 3.95514768e-01 2.00000000e+00]\n",
      " [1.29000000e+02 1.31000000e+02 4.26081870e-01 2.00000000e+00]\n",
      " [6.50000000e+01 6.80000000e+01 5.73339431e-01 2.00000000e+00]\n",
      " [6.00000000e+01 7.00000000e+01 6.04918571e-01 2.00000000e+00]\n",
      " [1.14000000e+02 1.15000000e+02 7.75008163e-01 2.00000000e+00]\n",
      " [1.47000000e+02 1.59000000e+02 8.55621048e-01 2.00000000e+00]\n",
      " [1.17000000e+02 1.19000000e+02 8.75632942e-01 2.00000000e+00]\n",
      " [1.12000000e+02 1.21000000e+02 9.64526499e-01 2.00000000e+00]\n",
      " [4.80000000e+01 4.90000000e+01 1.01137307e+00 2.00000000e+00]\n",
      " [6.20000000e+01 6.70000000e+01 1.01563260e+00 2.00000000e+00]\n",
      " [1.09000000e+02 1.10000000e+02 1.05133058e+00 2.00000000e+00]\n",
      " [6.10000000e+01 2.02000000e+02 1.08680883e+00 3.00000000e+00]\n",
      " [4.60000000e+01 5.00000000e+01 1.09146258e+00 2.00000000e+00]\n",
      " [9.90000000e+01 1.13000000e+02 1.13092017e+00 2.00000000e+00]\n",
      " [8.40000000e+01 8.70000000e+01 1.15205367e+00 2.00000000e+00]\n",
      " [1.56000000e+02 1.58000000e+02 1.17566469e+00 2.00000000e+00]\n",
      " [1.00000000e+02 1.05000000e+02 1.18571653e+00 2.00000000e+00]\n",
      " [5.40000000e+01 5.60000000e+01 1.18947553e+00 2.00000000e+00]\n",
      " [9.60000000e+01 1.01000000e+02 1.19395331e+00 2.00000000e+00]\n",
      " [1.03000000e+02 1.20000000e+02 1.24911810e+00 2.00000000e+00]\n",
      " [1.34000000e+02 1.38000000e+02 1.30639471e+00 2.00000000e+00]\n",
      " [1.43000000e+02 1.61000000e+02 1.31464481e+00 2.00000000e+00]\n",
      " [1.71000000e+02 1.77000000e+02 1.37208473e+00 2.00000000e+00]\n",
      " [1.41000000e+02 1.49000000e+02 1.37293632e+00 2.00000000e+00]\n",
      " [7.90000000e+01 8.90000000e+01 1.38558186e+00 2.00000000e+00]\n",
      " [1.73000000e+02 1.79000000e+02 1.40334189e+00 2.00000000e+00]\n",
      " [1.10000000e+01 1.90000000e+01 1.41009271e+00 2.00000000e+00]\n",
      " [7.20000000e+01 7.30000000e+01 1.42165887e+00 2.00000000e+00]\n",
      " [8.50000000e+01 9.20000000e+01 1.46319701e+00 2.00000000e+00]\n",
      " [1.23000000e+02 1.27000000e+02 1.52456941e+00 2.00000000e+00]\n",
      " [7.40000000e+01 8.00000000e+01 1.54945621e+00 2.00000000e+00]\n",
      " [1.11000000e+02 2.04000000e+02 1.55130084e+00 3.00000000e+00]\n",
      " [7.10000000e+01 8.30000000e+01 1.58667618e+00 2.00000000e+00]\n",
      " [1.30000000e+01 2.00000000e+02 1.59829182e+00 3.00000000e+00]\n",
      " [7.50000000e+01 9.50000000e+01 1.62916184e+00 2.00000000e+00]\n",
      " [1.81000000e+02 1.83000000e+02 1.63530846e+00 2.00000000e+00]\n",
      " [3.10000000e+01 3.90000000e+01 1.65556903e+00 2.00000000e+00]\n",
      " [1.25000000e+02 1.33000000e+02 1.68687358e+00 2.00000000e+00]\n",
      " [8.20000000e+01 1.08000000e+02 1.70522538e+00 2.00000000e+00]\n",
      " [1.63000000e+02 1.67000000e+02 1.72485614e+00 2.00000000e+00]\n",
      " [1.35000000e+02 2.21000000e+02 1.73176163e+00 3.00000000e+00]\n",
      " [1.76000000e+02 1.78000000e+02 1.73954191e+00 2.00000000e+00]\n",
      " [9.80000000e+01 2.28000000e+02 1.79088627e+00 3.00000000e+00]\n",
      " [1.50000000e+02 1.66000000e+02 1.79978063e+00 2.00000000e+00]\n",
      " [7.80000000e+01 2.14000000e+02 1.82830529e+00 3.00000000e+00]\n",
      " [1.57000000e+02 2.05000000e+02 1.84596153e+00 3.00000000e+00]\n",
      " [1.70000000e+02 1.72000000e+02 1.84654353e+00 2.00000000e+00]\n",
      " [6.60000000e+01 7.60000000e+01 1.85181153e+00 2.00000000e+00]\n",
      " [1.24000000e+02 1.32000000e+02 1.86177845e+00 2.00000000e+00]\n",
      " [9.00000000e+01 1.06000000e+02 1.87206970e+00 2.00000000e+00]\n",
      " [4.20000000e+01 5.50000000e+01 1.88391302e+00 2.00000000e+00]\n",
      " [5.70000000e+01 2.03000000e+02 1.88800185e+00 3.00000000e+00]\n",
      " [1.80000000e+02 1.84000000e+02 1.91765031e+00 2.00000000e+00]\n",
      " [4.70000000e+01 5.80000000e+01 1.93077891e+00 2.00000000e+00]\n",
      " [1.53000000e+02 1.65000000e+02 1.97359402e+00 2.00000000e+00]\n",
      " [2.90000000e+01 3.50000000e+01 1.98789122e+00 2.00000000e+00]\n",
      " [9.30000000e+01 2.07000000e+02 2.05918504e+00 3.00000000e+00]\n",
      " [8.00000000e+00 1.00000000e+01 2.07920093e+00 2.00000000e+00]\n",
      " [1.52000000e+02 1.54000000e+02 2.13395123e+00 2.00000000e+00]\n",
      " [7.70000000e+01 8.10000000e+01 2.13639880e+00 2.00000000e+00]\n",
      " [1.00000000e+00 1.50000000e+01 2.13996539e+00 2.00000000e+00]\n",
      " [2.10000000e+01 2.50000000e+01 2.14559611e+00 2.00000000e+00]\n",
      " [6.30000000e+01 8.60000000e+01 2.18256438e+00 2.00000000e+00]\n",
      " [4.30000000e+01 5.20000000e+01 2.19829383e+00 2.00000000e+00]\n",
      " [2.60000000e+01 2.80000000e+01 2.22005476e+00 2.00000000e+00]\n",
      " [9.10000000e+01 2.13000000e+02 2.23467674e+00 3.00000000e+00]\n",
      " [1.51000000e+02 2.29000000e+02 2.25949682e+00 3.00000000e+00]\n",
      " [1.02000000e+02 2.10000000e+02 2.26197204e+00 3.00000000e+00]\n",
      " [1.48000000e+02 1.68000000e+02 2.31292254e+00 2.00000000e+00]\n",
      " [1.93000000e+02 1.95000000e+02 2.33503929e+00 2.00000000e+00]\n",
      " [2.12000000e+02 2.17000000e+02 2.35100990e+00 4.00000000e+00]\n",
      " [2.18000000e+02 2.24000000e+02 2.43037992e+00 4.00000000e+00]\n",
      " [1.75000000e+02 2.39000000e+02 2.43990991e+00 3.00000000e+00]\n",
      " [1.62000000e+02 2.20000000e+02 2.44722163e+00 3.00000000e+00]\n",
      " [1.94000000e+02 1.96000000e+02 2.50382412e+00 2.00000000e+00]\n",
      " [1.55000000e+02 2.40000000e+02 2.55568690e+00 4.00000000e+00]\n",
      " [4.00000000e+00 1.60000000e+01 2.62232872e+00 2.00000000e+00]\n",
      " [1.39000000e+02 2.37000000e+02 2.62612323e+00 3.00000000e+00]\n",
      " [1.26000000e+02 1.46000000e+02 2.63706924e+00 2.00000000e+00]\n",
      " [2.30000000e+01 2.61000000e+02 2.69594849e+00 3.00000000e+00]\n",
      " [1.89000000e+02 2.35000000e+02 2.74089714e+00 3.00000000e+00]\n",
      " [3.70000000e+01 4.50000000e+01 2.80140772e+00 2.00000000e+00]\n",
      " [1.37000000e+02 2.01000000e+02 2.87497888e+00 3.00000000e+00]\n",
      " [2.19000000e+02 2.34000000e+02 2.93060909e+00 4.00000000e+00]\n",
      " [5.30000000e+01 6.40000000e+01 2.98410423e+00 2.00000000e+00]\n",
      " [1.04000000e+02 2.42000000e+02 3.09857710e+00 4.00000000e+00]\n",
      " [2.40000000e+01 3.40000000e+01 3.10239073e+00 2.00000000e+00]\n",
      " [6.90000000e+01 2.08000000e+02 3.11733417e+00 3.00000000e+00]\n",
      " [1.88000000e+02 1.90000000e+02 3.13406715e+00 2.00000000e+00]\n",
      " [5.90000000e+01 2.50000000e+02 3.17274293e+00 3.00000000e+00]\n",
      " [2.23000000e+02 2.66000000e+02 3.24336893e+00 5.00000000e+00]\n",
      " [1.18000000e+02 2.71000000e+02 3.26303746e+00 5.00000000e+00]\n",
      " [2.53000000e+02 2.63000000e+02 3.32152418e+00 4.00000000e+00]\n",
      " [2.09000000e+02 2.49000000e+02 3.32404430e+00 4.00000000e+00]\n",
      " [1.74000000e+02 1.86000000e+02 3.36610646e+00 2.00000000e+00]\n",
      " [2.32000000e+02 2.47000000e+02 3.38063320e+00 4.00000000e+00]\n",
      " [1.64000000e+02 2.43000000e+02 3.38924495e+00 3.00000000e+00]\n",
      " [3.30000000e+01 4.10000000e+01 3.48708707e+00 2.00000000e+00]\n",
      " [9.40000000e+01 9.70000000e+01 3.54860438e+00 2.00000000e+00]\n",
      " [2.45000000e+02 2.54000000e+02 3.56838675e+00 5.00000000e+00]\n",
      " [2.38000000e+02 2.67000000e+02 3.58182043e+00 5.00000000e+00]\n",
      " [1.07000000e+02 2.30000000e+02 3.60382452e+00 3.00000000e+00]\n",
      " [3.00000000e+01 3.20000000e+01 3.63297679e+00 2.00000000e+00]\n",
      " [2.70000000e+01 5.10000000e+01 3.76332639e+00 2.00000000e+00]\n",
      " [1.87000000e+02 2.22000000e+02 3.76606320e+00 3.00000000e+00]\n",
      " [3.60000000e+01 2.64000000e+02 3.84866281e+00 3.00000000e+00]\n",
      " [2.16000000e+02 2.31000000e+02 3.89822189e+00 5.00000000e+00]\n",
      " [2.36000000e+02 2.55000000e+02 3.91546999e+00 4.00000000e+00]\n",
      " [1.42000000e+02 2.48000000e+02 3.98342986e+00 3.00000000e+00]\n",
      " [1.36000000e+02 2.58000000e+02 4.01037251e+00 3.00000000e+00]\n",
      " [8.80000000e+01 1.22000000e+02 4.08698546e+00 2.00000000e+00]\n",
      " [2.15000000e+02 2.46000000e+02 4.10694747e+00 4.00000000e+00]\n",
      " [1.70000000e+01 2.60000000e+02 4.11201308e+00 3.00000000e+00]\n",
      " [1.45000000e+02 2.25000000e+02 4.13037403e+00 3.00000000e+00]\n",
      " [2.20000000e+01 2.86000000e+02 4.19585613e+00 3.00000000e+00]\n",
      " [2.77000000e+02 2.99000000e+02 4.23253188e+00 8.00000000e+00]\n",
      " [2.27000000e+02 2.62000000e+02 4.27711040e+00 4.00000000e+00]\n",
      " [3.80000000e+01 3.05000000e+02 4.35847989e+00 4.00000000e+00]\n",
      " [2.44000000e+02 3.06000000e+02 4.42049295e+00 8.00000000e+00]\n",
      " [1.28000000e+02 2.41000000e+02 4.44653189e+00 3.00000000e+00]\n",
      " [9.00000000e+00 2.33000000e+02 4.47084191e+00 4.00000000e+00]\n",
      " [1.30000000e+02 2.96000000e+02 4.47172187e+00 4.00000000e+00]\n",
      " [7.00000000e+00 2.26000000e+02 4.47176824e+00 3.00000000e+00]\n",
      " [2.87000000e+02 2.92000000e+02 4.51680955e+00 7.00000000e+00]\n",
      " [2.11000000e+02 2.65000000e+02 4.58270518e+00 6.00000000e+00]\n",
      " [1.16000000e+02 1.60000000e+02 4.69689399e+00 2.00000000e+00]\n",
      " [2.72000000e+02 2.75000000e+02 4.70838181e+00 7.00000000e+00]\n",
      " [2.70000000e+02 2.95000000e+02 4.79834343e+00 8.00000000e+00]\n",
      " [2.06000000e+02 2.91000000e+02 4.81464546e+00 7.00000000e+00]\n",
      " [1.69000000e+02 2.82000000e+02 4.83873978e+00 4.00000000e+00]\n",
      " [1.44000000e+02 2.73000000e+02 4.85848858e+00 4.00000000e+00]\n",
      " [1.91000000e+02 2.80000000e+02 4.92656287e+00 4.00000000e+00]\n",
      " [2.51000000e+02 3.00000000e+02 5.05852654e+00 8.00000000e+00]\n",
      " [1.85000000e+02 3.13000000e+02 5.27805667e+00 4.00000000e+00]\n",
      " [4.00000000e+01 2.93000000e+02 5.52438220e+00 5.00000000e+00]\n",
      " [1.82000000e+02 3.21000000e+02 5.63455067e+00 5.00000000e+00]\n",
      " [4.40000000e+01 3.17000000e+02 5.63566346e+00 5.00000000e+00]\n",
      " [3.07000000e+02 3.20000000e+02 5.63689257e+00 8.00000000e+00]\n",
      " [2.78000000e+02 2.85000000e+02 5.73162117e+00 6.00000000e+00]\n",
      " [2.97000000e+02 3.12000000e+02 5.80104793e+00 5.00000000e+00]\n",
      " [1.97000000e+02 1.99000000e+02 5.93463617e+00 2.00000000e+00]\n",
      " [2.52000000e+02 2.68000000e+02 6.03051304e+00 4.00000000e+00]\n",
      " [1.40000000e+02 2.94000000e+02 6.11261295e+00 3.00000000e+00]\n",
      " [1.40000000e+01 1.80000000e+01 6.11849955e+00 2.00000000e+00]\n",
      " [2.89000000e+02 3.01000000e+02 6.19541421e+00 6.00000000e+00]\n",
      " [2.56000000e+02 3.10000000e+02 6.40213829e+00 5.00000000e+00]\n",
      " [2.00000000e+00 6.00000000e+00 6.40766796e+00 2.00000000e+00]\n",
      " [3.27000000e+02 3.28000000e+02 6.46881793e+00 1.50000000e+01]\n",
      " [1.20000000e+01 3.14000000e+02 6.51477853e+00 4.00000000e+00]\n",
      " [2.83000000e+02 3.24000000e+02 6.74344838e+00 1.00000000e+01]\n",
      " [2.98000000e+02 3.08000000e+02 6.77349242e+00 5.00000000e+00]\n",
      " [2.84000000e+02 3.32000000e+02 6.86397406e+00 1.00000000e+01]\n",
      " [1.92000000e+02 1.98000000e+02 7.38727744e+00 2.00000000e+00]\n",
      " [2.00000000e+01 3.43000000e+02 7.49426918e+00 3.00000000e+00]\n",
      " [3.26000000e+02 3.31000000e+02 7.84865504e+00 1.10000000e+01]\n",
      " [2.57000000e+02 3.02000000e+02 7.85747284e+00 4.00000000e+00]\n",
      " [2.90000000e+02 3.29000000e+02 7.93003260e+00 9.00000000e+00]\n",
      " [2.59000000e+02 3.03000000e+02 7.96318149e+00 4.00000000e+00]\n",
      " [3.18000000e+02 3.50000000e+02 7.97953963e+00 1.30000000e+01]\n",
      " [2.88000000e+02 3.09000000e+02 8.09467211e+00 5.00000000e+00]\n",
      " [3.11000000e+02 3.35000000e+02 8.23639778e+00 9.00000000e+00]\n",
      " [2.81000000e+02 3.23000000e+02 8.28624206e+00 9.00000000e+00]\n",
      " [2.79000000e+02 3.39000000e+02 8.38881805e+00 8.00000000e+00]\n",
      " [3.16000000e+02 3.25000000e+02 8.59781122e+00 6.00000000e+00]\n",
      " [3.41000000e+02 3.59000000e+02 8.65914713e+00 9.00000000e+00]\n",
      " [3.04000000e+02 3.56000000e+02 8.81481171e+00 1.20000000e+01]\n",
      " [3.38000000e+02 3.44000000e+02 8.81872840e+00 1.20000000e+01]\n",
      " [3.22000000e+02 3.37000000e+02 8.98109818e+00 1.10000000e+01]\n",
      " [3.19000000e+02 3.60000000e+02 9.43654792e+00 1.20000000e+01]\n",
      " [2.76000000e+02 3.61000000e+02 9.88710721e+00 1.10000000e+01]\n",
      " [0.00000000e+00 3.62000000e+02 1.00005131e+01 9.00000000e+00]\n",
      " [3.45000000e+02 3.47000000e+02 1.03105263e+01 2.00000000e+01]\n",
      " [3.34000000e+02 3.63000000e+02 1.03123095e+01 1.10000000e+01]\n",
      " [3.15000000e+02 3.54000000e+02 1.10038361e+01 1.90000000e+01]\n",
      " [3.49000000e+02 3.57000000e+02 1.15065759e+01 1.40000000e+01]\n",
      " [2.74000000e+02 3.42000000e+02 1.17359186e+01 5.00000000e+00]\n",
      " [3.33000000e+02 3.65000000e+02 1.25259804e+01 1.60000000e+01]\n",
      " [3.58000000e+02 3.69000000e+02 1.31177099e+01 2.40000000e+01]\n",
      " [3.46000000e+02 3.48000000e+02 1.33522458e+01 6.00000000e+00]\n",
      " [3.36000000e+02 3.71000000e+02 1.38474176e+01 2.50000000e+01]\n",
      " [3.30000000e+02 3.68000000e+02 1.41469706e+01 1.60000000e+01]\n",
      " [3.53000000e+02 3.66000000e+02 1.44221050e+01 1.50000000e+01]\n",
      " [3.40000000e+02 3.52000000e+02 1.47719665e+01 4.00000000e+00]\n",
      " [3.64000000e+02 3.75000000e+02 1.51213938e+01 1.40000000e+01]\n",
      " [3.51000000e+02 3.81000000e+02 1.53083984e+01 2.50000000e+01]\n",
      " [2.69000000e+02 3.73000000e+02 1.56836600e+01 2.10000000e+01]\n",
      " [3.77000000e+02 3.79000000e+02 1.57659861e+01 4.90000000e+01]\n",
      " [3.70000000e+02 3.76000000e+02 1.72880111e+01 2.50000000e+01]\n",
      " [3.74000000e+02 3.87000000e+02 1.87466489e+01 3.90000000e+01]\n",
      " [3.80000000e+02 3.84000000e+02 1.90886175e+01 4.10000000e+01]\n",
      " [3.67000000e+02 3.85000000e+02 1.97528496e+01 3.20000000e+01]\n",
      " [3.78000000e+02 3.83000000e+02 1.98930997e+01 2.00000000e+01]\n",
      " [3.72000000e+02 3.86000000e+02 2.04039445e+01 6.00000000e+01]\n",
      " [3.55000000e+02 3.89000000e+02 2.16827131e+01 4.50000000e+01]\n",
      " [3.90000000e+02 3.92000000e+02 2.28837315e+01 9.20000000e+01]\n",
      " [3.91000000e+02 3.94000000e+02 2.38888346e+01 1.12000000e+02]\n",
      " [3.88000000e+02 3.93000000e+02 2.59934950e+01 8.40000000e+01]\n",
      " [3.82000000e+02 3.96000000e+02 2.67486546e+01 8.80000000e+01]\n",
      " [3.95000000e+02 3.97000000e+02 3.54580417e+01 2.00000000e+02]]\n"
     ]
    },
    {
     "name": "stderr",
     "output_type": "stream",
     "text": [
      "<ipython-input-33-ee0d2a72e91f>:2: ClusterWarning: scipy.cluster: The symmetric non-negative hollow observation matrix looks suspiciously like an uncondensed distance matrix\n",
      "  links = linkage(distxy, method='complete', metric='euclidean')\n"
     ]
    }
   ],
   "source": [
    "distxy = squareform(pdist(X, metric='euclidean'))\n",
    "links = linkage(distxy, method='complete', metric='euclidean')\n",
    "\n",
    "print(distxy)\n",
    "print(links)"
   ]
  },
  {
   "cell_type": "code",
   "execution_count": 34,
   "metadata": {
    "colab": {
     "base_uri": "https://localhost:8080/",
     "height": 1000
    },
    "id": "k1rALstHFs4V",
    "outputId": "06b7f15b-2c79-4389-9b57-0962db338b40"
   },
   "outputs": [
    {
     "data": {
      "text/plain": [
       "{'icoord': [[5.0, 5.0, 15.0, 15.0],\n",
       "  [35.0, 35.0, 45.0, 45.0],\n",
       "  [25.0, 25.0, 40.0, 40.0],\n",
       "  [10.0, 10.0, 32.5, 32.5],\n",
       "  [65.0, 65.0, 75.0, 75.0],\n",
       "  [55.0, 55.0, 70.0, 70.0],\n",
       "  [95.0, 95.0, 105.0, 105.0],\n",
       "  [115.0, 115.0, 125.0, 125.0],\n",
       "  [100.0, 100.0, 120.0, 120.0],\n",
       "  [85.0, 85.0, 110.0, 110.0],\n",
       "  [62.5, 62.5, 97.5, 97.5],\n",
       "  [21.25, 21.25, 80.0, 80.0],\n",
       "  [135.0, 135.0, 145.0, 145.0],\n",
       "  [175.0, 175.0, 185.0, 185.0],\n",
       "  [165.0, 165.0, 180.0, 180.0],\n",
       "  [155.0, 155.0, 172.5, 172.5],\n",
       "  [205.0, 205.0, 215.0, 215.0],\n",
       "  [235.0, 235.0, 245.0, 245.0],\n",
       "  [225.0, 225.0, 240.0, 240.0],\n",
       "  [210.0, 210.0, 232.5, 232.5],\n",
       "  [195.0, 195.0, 221.25, 221.25],\n",
       "  [163.75, 163.75, 208.125, 208.125],\n",
       "  [140.0, 140.0, 185.9375, 185.9375],\n",
       "  [50.625, 50.625, 162.96875, 162.96875]],\n",
       " 'dcoord': [[0.0, 13.352245805311366, 13.352245805311366, 0.0],\n",
       "  [0.0, 11.735918555502323, 11.735918555502323, 0.0],\n",
       "  [0.0, 15.12139378004206, 15.12139378004206, 11.735918555502323],\n",
       "  [13.352245805311366,\n",
       "   19.89309973735453,\n",
       "   19.89309973735453,\n",
       "   15.12139378004206],\n",
       "  [0.0, 15.683659950305422, 15.683659950305422, 0.0],\n",
       "  [0.0, 19.752849624088654, 19.752849624088654, 15.683659950305422],\n",
       "  [0.0, 13.117709852518944, 13.117709852518944, 0.0],\n",
       "  [0.0, 13.847417642007738, 13.847417642007738, 0.0],\n",
       "  [13.117709852518944,\n",
       "   15.765986055359985,\n",
       "   15.765986055359985,\n",
       "   13.847417642007738],\n",
       "  [0.0, 20.40394445044389, 20.40394445044389, 15.765986055359985],\n",
       "  [19.752849624088654,\n",
       "   22.883731468685898,\n",
       "   22.883731468685898,\n",
       "   20.40394445044389],\n",
       "  [19.89309973735453,\n",
       "   23.888834579596054,\n",
       "   23.888834579596054,\n",
       "   22.883731468685898],\n",
       "  [0.0, 14.771966545673777, 14.771966545673777, 0.0],\n",
       "  [0.0, 12.525980362246612, 12.525980362246612, 0.0],\n",
       "  [0.0, 17.288011084893405, 17.288011084893405, 12.525980362246612],\n",
       "  [0.0, 18.746648854886583, 18.746648854886583, 17.288011084893405],\n",
       "  [0.0, 14.14697064327156, 14.14697064327156, 0.0],\n",
       "  [0.0, 14.422104966695267, 14.422104966695267, 0.0],\n",
       "  [0.0, 15.308398356830892, 15.308398356830892, 14.422104966695267],\n",
       "  [14.14697064327156,\n",
       "   19.088617507442493,\n",
       "   19.088617507442493,\n",
       "   15.308398356830892],\n",
       "  [0.0, 21.682713128206778, 21.682713128206778, 19.088617507442493],\n",
       "  [18.746648854886583,\n",
       "   25.993495003867704,\n",
       "   25.993495003867704,\n",
       "   21.682713128206778],\n",
       "  [14.771966545673777,\n",
       "   26.74865460216498,\n",
       "   26.74865460216498,\n",
       "   25.993495003867704],\n",
       "  [23.888834579596054,\n",
       "   35.45804172499611,\n",
       "   35.45804172499611,\n",
       "   26.74865460216498]],\n",
       " 'ivl': ['(2)',\n",
       "  '(4)',\n",
       "  '(9)',\n",
       "  '(2)',\n",
       "  '(3)',\n",
       "  '(11)',\n",
       "  '(2)',\n",
       "  '(19)',\n",
       "  '(11)',\n",
       "  '(13)',\n",
       "  '(11)',\n",
       "  '(5)',\n",
       "  '(20)',\n",
       "  '(2)',\n",
       "  '(2)',\n",
       "  '(14)',\n",
       "  '(9)',\n",
       "  '(4)',\n",
       "  '(12)',\n",
       "  '(4)',\n",
       "  '(4)',\n",
       "  '(12)',\n",
       "  '(10)',\n",
       "  '(3)',\n",
       "  '(12)'],\n",
       " 'leaves': [346,\n",
       "  348,\n",
       "  364,\n",
       "  274,\n",
       "  342,\n",
       "  367,\n",
       "  269,\n",
       "  373,\n",
       "  372,\n",
       "  358,\n",
       "  369,\n",
       "  336,\n",
       "  371,\n",
       "  340,\n",
       "  352,\n",
       "  374,\n",
       "  370,\n",
       "  333,\n",
       "  365,\n",
       "  355,\n",
       "  330,\n",
       "  368,\n",
       "  351,\n",
       "  353,\n",
       "  366],\n",
       " 'color_list': ['C1',\n",
       "  'C1',\n",
       "  'C1',\n",
       "  'C1',\n",
       "  'C1',\n",
       "  'C1',\n",
       "  'C1',\n",
       "  'C1',\n",
       "  'C1',\n",
       "  'C1',\n",
       "  'C1',\n",
       "  'C1',\n",
       "  'C2',\n",
       "  'C3',\n",
       "  'C3',\n",
       "  'C3',\n",
       "  'C4',\n",
       "  'C4',\n",
       "  'C4',\n",
       "  'C4',\n",
       "  'C4',\n",
       "  'C0',\n",
       "  'C0',\n",
       "  'C0']}"
      ]
     },
     "execution_count": 34,
     "metadata": {},
     "output_type": "execute_result"
    },
    {
     "data": {
      "image/png": "[encoded data removed]",
      "text/plain": [
       "<Figure size 432x288 with 1 Axes>"
      ]
     },
     "metadata": {
      "needs_background": "light"
     },
     "output_type": "display_data"
    }
   ],
   "source": [
    "plt.title('Hierarchical Clustering Dendrogram (truncated)')\n",
    "plt.xlabel('count')\n",
    "plt.ylabel('distance')\n",
    "dendrogram(links, truncate_mode='lastp', p=25, show_leaf_counts=True, leaf_rotation=90, leaf_font_size=12)"
   ]
  },
  {
   "cell_type": "code",
   "execution_count": 36,
   "metadata": {
    "id": "sNbOZgsYHKYg"
   },
   "outputs": [],
   "source": [
    "from sklearn.datasets import load_iris"
   ]
  },
  {
   "cell_type": "code",
   "execution_count": 64,
   "metadata": {},
   "outputs": [
    {
     "data": {
      "text/html": [
       "<div>\n",
       "<style scoped>\n",
       "    .dataframe tbody tr th:only-of-type {\n",
       "        vertical-align: middle;\n",
       "    }\n",
       "\n",
       "    .dataframe tbody tr th {\n",
       "        vertical-align: top;\n",
       "    }\n",
       "\n",
       "    .dataframe thead th {\n",
       "        text-align: right;\n",
       "    }\n",
       "</style>\n",
       "<table border=\"1\" class=\"dataframe\">\n",
       "  <thead>\n",
       "    <tr style=\"text-align: right;\">\n",
       "      <th></th>\n",
       "      <th>Id</th>\n",
       "      <th>SepalLengthCm</th>\n",
       "      <th>SepalWidthCm</th>\n",
       "      <th>PetalLengthCm</th>\n",
       "      <th>PetalWidthCm</th>\n",
       "      <th>Species</th>\n",
       "    </tr>\n",
       "  </thead>\n",
       "  <tbody>\n",
       "    <tr>\n",
       "      <th>0</th>\n",
       "      <td>1</td>\n",
       "      <td>5.1</td>\n",
       "      <td>3.5</td>\n",
       "      <td>1.4</td>\n",
       "      <td>0.2</td>\n",
       "      <td>Iris-setosa</td>\n",
       "    </tr>\n",
       "    <tr>\n",
       "      <th>1</th>\n",
       "      <td>2</td>\n",
       "      <td>4.9</td>\n",
       "      <td>3.0</td>\n",
       "      <td>1.4</td>\n",
       "      <td>0.2</td>\n",
       "      <td>Iris-setosa</td>\n",
       "    </tr>\n",
       "    <tr>\n",
       "      <th>2</th>\n",
       "      <td>3</td>\n",
       "      <td>4.7</td>\n",
       "      <td>3.2</td>\n",
       "      <td>1.3</td>\n",
       "      <td>0.2</td>\n",
       "      <td>Iris-setosa</td>\n",
       "    </tr>\n",
       "    <tr>\n",
       "      <th>3</th>\n",
       "      <td>4</td>\n",
       "      <td>4.6</td>\n",
       "      <td>3.1</td>\n",
       "      <td>1.5</td>\n",
       "      <td>0.2</td>\n",
       "      <td>Iris-setosa</td>\n",
       "    </tr>\n",
       "    <tr>\n",
       "      <th>4</th>\n",
       "      <td>5</td>\n",
       "      <td>5.0</td>\n",
       "      <td>3.6</td>\n",
       "      <td>1.4</td>\n",
       "      <td>0.2</td>\n",
       "      <td>Iris-setosa</td>\n",
       "    </tr>\n",
       "    <tr>\n",
       "      <th>...</th>\n",
       "      <td>...</td>\n",
       "      <td>...</td>\n",
       "      <td>...</td>\n",
       "      <td>...</td>\n",
       "      <td>...</td>\n",
       "      <td>...</td>\n",
       "    </tr>\n",
       "    <tr>\n",
       "      <th>145</th>\n",
       "      <td>146</td>\n",
       "      <td>6.7</td>\n",
       "      <td>3.0</td>\n",
       "      <td>5.2</td>\n",
       "      <td>2.3</td>\n",
       "      <td>Iris-virginica</td>\n",
       "    </tr>\n",
       "    <tr>\n",
       "      <th>146</th>\n",
       "      <td>147</td>\n",
       "      <td>6.3</td>\n",
       "      <td>2.5</td>\n",
       "      <td>5.0</td>\n",
       "      <td>1.9</td>\n",
       "      <td>Iris-virginica</td>\n",
       "    </tr>\n",
       "    <tr>\n",
       "      <th>147</th>\n",
       "      <td>148</td>\n",
       "      <td>6.5</td>\n",
       "      <td>3.0</td>\n",
       "      <td>5.2</td>\n",
       "      <td>2.0</td>\n",
       "      <td>Iris-virginica</td>\n",
       "    </tr>\n",
       "    <tr>\n",
       "      <th>148</th>\n",
       "      <td>149</td>\n",
       "      <td>6.2</td>\n",
       "      <td>3.4</td>\n",
       "      <td>5.4</td>\n",
       "      <td>2.3</td>\n",
       "      <td>Iris-virginica</td>\n",
       "    </tr>\n",
       "    <tr>\n",
       "      <th>149</th>\n",
       "      <td>150</td>\n",
       "      <td>5.9</td>\n",
       "      <td>3.0</td>\n",
       "      <td>5.1</td>\n",
       "      <td>1.8</td>\n",
       "      <td>Iris-virginica</td>\n",
       "    </tr>\n",
       "  </tbody>\n",
       "</table>\n",
       "<p>150 rows × 6 columns</p>\n",
       "</div>"
      ],
      "text/plain": [
       "      Id  SepalLengthCm  SepalWidthCm  PetalLengthCm  PetalWidthCm  \\\n",
       "0      1            5.1           3.5            1.4           0.2   \n",
       "1      2            4.9           3.0            1.4           0.2   \n",
       "2      3            4.7           3.2            1.3           0.2   \n",
       "3      4            4.6           3.1            1.5           0.2   \n",
       "4      5            5.0           3.6            1.4           0.2   \n",
       "..   ...            ...           ...            ...           ...   \n",
       "145  146            6.7           3.0            5.2           2.3   \n",
       "146  147            6.3           2.5            5.0           1.9   \n",
       "147  148            6.5           3.0            5.2           2.0   \n",
       "148  149            6.2           3.4            5.4           2.3   \n",
       "149  150            5.9           3.0            5.1           1.8   \n",
       "\n",
       "            Species  \n",
       "0       Iris-setosa  \n",
       "1       Iris-setosa  \n",
       "2       Iris-setosa  \n",
       "3       Iris-setosa  \n",
       "4       Iris-setosa  \n",
       "..              ...  \n",
       "145  Iris-virginica  \n",
       "146  Iris-virginica  \n",
       "147  Iris-virginica  \n",
       "148  Iris-virginica  \n",
       "149  Iris-virginica  \n",
       "\n",
       "[150 rows x 6 columns]"
      ]
     },
     "execution_count": 64,
     "metadata": {},
     "output_type": "execute_result"
    }
   ],
   "source": [
    "iris=pd.read_csv('iris.csv')\n",
    "iris"
   ]
  },
  {
   "cell_type": "code",
   "execution_count": 67,
   "metadata": {},
   "outputs": [
    {
     "data": {
      "text/plain": [
       "0         Iris-setosa\n",
       "1         Iris-setosa\n",
       "2         Iris-setosa\n",
       "3         Iris-setosa\n",
       "4         Iris-setosa\n",
       "            ...      \n",
       "145    Iris-virginica\n",
       "146    Iris-virginica\n",
       "147    Iris-virginica\n",
       "148    Iris-virginica\n",
       "149    Iris-virginica\n",
       "Name: Species, Length: 150, dtype: object"
      ]
     },
     "execution_count": 67,
     "metadata": {},
     "output_type": "execute_result"
    }
   ],
   "source": [
    "iris.Species"
   ]
  },
  {
   "cell_type": "code",
   "execution_count": 41,
   "metadata": {},
   "outputs": [],
   "source": [
    "iris_df = pd.DataFrame(iris.data, columns = iris.feature_names)"
   ]
  },
  {
   "cell_type": "code",
   "execution_count": 42,
   "metadata": {},
   "outputs": [
    {
     "data": {
      "text/html": [
       "<div>\n",
       "<style scoped>\n",
       "    .dataframe tbody tr th:only-of-type {\n",
       "        vertical-align: middle;\n",
       "    }\n",
       "\n",
       "    .dataframe tbody tr th {\n",
       "        vertical-align: top;\n",
       "    }\n",
       "\n",
       "    .dataframe thead th {\n",
       "        text-align: right;\n",
       "    }\n",
       "</style>\n",
       "<table border=\"1\" class=\"dataframe\">\n",
       "  <thead>\n",
       "    <tr style=\"text-align: right;\">\n",
       "      <th></th>\n",
       "      <th>sepal length (cm)</th>\n",
       "      <th>sepal width (cm)</th>\n",
       "      <th>petal length (cm)</th>\n",
       "      <th>petal width (cm)</th>\n",
       "    </tr>\n",
       "  </thead>\n",
       "  <tbody>\n",
       "    <tr>\n",
       "      <th>0</th>\n",
       "      <td>5.1</td>\n",
       "      <td>3.5</td>\n",
       "      <td>1.4</td>\n",
       "      <td>0.2</td>\n",
       "    </tr>\n",
       "    <tr>\n",
       "      <th>1</th>\n",
       "      <td>4.9</td>\n",
       "      <td>3.0</td>\n",
       "      <td>1.4</td>\n",
       "      <td>0.2</td>\n",
       "    </tr>\n",
       "    <tr>\n",
       "      <th>2</th>\n",
       "      <td>4.7</td>\n",
       "      <td>3.2</td>\n",
       "      <td>1.3</td>\n",
       "      <td>0.2</td>\n",
       "    </tr>\n",
       "    <tr>\n",
       "      <th>3</th>\n",
       "      <td>4.6</td>\n",
       "      <td>3.1</td>\n",
       "      <td>1.5</td>\n",
       "      <td>0.2</td>\n",
       "    </tr>\n",
       "    <tr>\n",
       "      <th>4</th>\n",
       "      <td>5.0</td>\n",
       "      <td>3.6</td>\n",
       "      <td>1.4</td>\n",
       "      <td>0.2</td>\n",
       "    </tr>\n",
       "    <tr>\n",
       "      <th>...</th>\n",
       "      <td>...</td>\n",
       "      <td>...</td>\n",
       "      <td>...</td>\n",
       "      <td>...</td>\n",
       "    </tr>\n",
       "    <tr>\n",
       "      <th>145</th>\n",
       "      <td>6.7</td>\n",
       "      <td>3.0</td>\n",
       "      <td>5.2</td>\n",
       "      <td>2.3</td>\n",
       "    </tr>\n",
       "    <tr>\n",
       "      <th>146</th>\n",
       "      <td>6.3</td>\n",
       "      <td>2.5</td>\n",
       "      <td>5.0</td>\n",
       "      <td>1.9</td>\n",
       "    </tr>\n",
       "    <tr>\n",
       "      <th>147</th>\n",
       "      <td>6.5</td>\n",
       "      <td>3.0</td>\n",
       "      <td>5.2</td>\n",
       "      <td>2.0</td>\n",
       "    </tr>\n",
       "    <tr>\n",
       "      <th>148</th>\n",
       "      <td>6.2</td>\n",
       "      <td>3.4</td>\n",
       "      <td>5.4</td>\n",
       "      <td>2.3</td>\n",
       "    </tr>\n",
       "    <tr>\n",
       "      <th>149</th>\n",
       "      <td>5.9</td>\n",
       "      <td>3.0</td>\n",
       "      <td>5.1</td>\n",
       "      <td>1.8</td>\n",
       "    </tr>\n",
       "  </tbody>\n",
       "</table>\n",
       "<p>150 rows × 4 columns</p>\n",
       "</div>"
      ],
      "text/plain": [
       "     sepal length (cm)  sepal width (cm)  petal length (cm)  petal width (cm)\n",
       "0                  5.1               3.5                1.4               0.2\n",
       "1                  4.9               3.0                1.4               0.2\n",
       "2                  4.7               3.2                1.3               0.2\n",
       "3                  4.6               3.1                1.5               0.2\n",
       "4                  5.0               3.6                1.4               0.2\n",
       "..                 ...               ...                ...               ...\n",
       "145                6.7               3.0                5.2               2.3\n",
       "146                6.3               2.5                5.0               1.9\n",
       "147                6.5               3.0                5.2               2.0\n",
       "148                6.2               3.4                5.4               2.3\n",
       "149                5.9               3.0                5.1               1.8\n",
       "\n",
       "[150 rows x 4 columns]"
      ]
     },
     "execution_count": 42,
     "metadata": {},
     "output_type": "execute_result"
    }
   ],
   "source": [
    "iris_df"
   ]
  },
  {
   "cell_type": "code",
   "execution_count": 43,
   "metadata": {},
   "outputs": [],
   "source": []
  },
  {
   "cell_type": "code",
   "execution_count": 45,
   "metadata": {},
   "outputs": [],
   "source": []
  },
  {
   "cell_type": "code",
   "execution_count": null,
   "metadata": {},
   "outputs": [],
   "source": []
  },
  {
   "cell_type": "code",
   "execution_count": 47,
   "metadata": {},
   "outputs": [],
   "source": [
    "sse=[]\n",
    "rng=range(1,10)\n",
    "for k in rng:\n",
    "    km=KMeans(n_clusters=k)\n",
    "    km.fit_predict(iris_df)\n",
    "    sse.append(km.inertia_)"
   ]
  },
  {
   "cell_type": "code",
   "execution_count": 48,
   "metadata": {},
   "outputs": [
    {
     "data": {
      "text/plain": [
       "[<matplotlib.lines.Line2D at 0x22bfc46b610>]"
      ]
     },
     "execution_count": 48,
     "metadata": {},
     "output_type": "execute_result"
    },
    {
     "data": {
      "image/png": "[encoded data removed]",
      "text/plain": [
       "<Figure size 432x288 with 1 Axes>"
      ]
     },
     "metadata": {
      "needs_background": "light"
     },
     "output_type": "display_data"
    }
   ],
   "source": [
    "plt.plot(rng,sse)"
   ]
  },
  {
   "cell_type": "code",
   "execution_count": 49,
   "metadata": {},
   "outputs": [
    {
     "ename": "SyntaxError",
     "evalue": "unexpected EOF while parsing (<ipython-input-49-d7e3b40d5227>, line 1)",
     "output_type": "error",
     "traceback": [
      "\u001b[1;36m  File \u001b[1;32m\"<ipython-input-49-d7e3b40d5227>\"\u001b[1;36m, line \u001b[1;32m1\u001b[0m\n\u001b[1;33m    kmeans = KMeans(n_clusters=3,init = 'k-means++',   max_iter = 100, n_init = 10, random_state = 0\u001b[0m\n\u001b[1;37m                                                                                                    ^\u001b[0m\n\u001b[1;31mSyntaxError\u001b[0m\u001b[1;31m:\u001b[0m unexpected EOF while parsing\n"
     ]
    }
   ],
   "source": [
    "kmeans = KMeans(n_clusters=3,init = 'k-means++',   max_iter = 100, n_init = 10, random_state = 0"
   ]
  },
  {
   "cell_type": "code",
   "execution_count": 71,
   "metadata": {},
   "outputs": [],
   "source": [
    "y_kmeans = kmeans.fit_predict(iris_df)"
   ]
  },
  {
   "cell_type": "code",
   "execution_count": 77,
   "metadata": {},
   "outputs": [
    {
     "data": {
      "text/plain": [
       "numpy.ndarray"
      ]
     },
     "execution_count": 77,
     "metadata": {},
     "output_type": "execute_result"
    }
   ],
   "source": [
    "type(y_kmeans)"
   ]
  },
  {
   "cell_type": "code",
   "execution_count": 73,
   "metadata": {},
   "outputs": [
    {
     "name": "stdout",
     "output_type": "stream",
     "text": [
      "[[6.85       3.07368421 5.74210526 2.07105263]\n",
      " [5.006      3.428      1.462      0.246     ]\n",
      " [5.9016129  2.7483871  4.39354839 1.43387097]]\n"
     ]
    }
   ],
   "source": [
    "print(kmeans.cluster_centers_)"
   ]
  },
  {
   "cell_type": "code",
   "execution_count": 53,
   "metadata": {},
   "outputs": [],
   "source": [
    "iris['clusters']=y_kmeans"
   ]
  },
  {
   "cell_type": "code",
   "execution_count": 55,
   "metadata": {},
   "outputs": [
    {
     "data": {
      "text/plain": [
       "array([1, 1, 1, 1, 1, 1, 1, 1, 1, 1, 1, 1, 1, 1, 1, 1, 1, 1, 1, 1, 1, 1,\n",
       "       1, 1, 1, 1, 1, 1, 1, 1, 1, 1, 1, 1, 1, 1, 1, 1, 1, 1, 1, 1, 1, 1,\n",
       "       1, 1, 1, 1, 1, 1, 2, 2, 0, 2, 2, 2, 2, 2, 2, 2, 2, 2, 2, 2, 2, 2,\n",
       "       2, 2, 2, 2, 2, 2, 2, 2, 2, 2, 2, 0, 2, 2, 2, 2, 2, 2, 2, 2, 2, 2,\n",
       "       2, 2, 2, 2, 2, 2, 2, 2, 2, 2, 2, 2, 0, 2, 0, 0, 0, 0, 2, 0, 0, 0,\n",
       "       0, 0, 0, 2, 2, 0, 0, 0, 0, 2, 0, 2, 0, 2, 0, 0, 2, 2, 0, 0, 0, 0,\n",
       "       0, 2, 0, 0, 0, 0, 2, 0, 0, 0, 2, 0, 0, 0, 2, 0, 0, 2])"
      ]
     },
     "execution_count": 55,
     "metadata": {},
     "output_type": "execute_result"
    }
   ],
   "source": [
    "iris.clusters"
   ]
  },
  {
   "cell_type": "code",
   "execution_count": 60,
   "metadata": {},
   "outputs": [
    {
     "data": {
      "text/plain": [
       "sklearn.utils.Bunch"
      ]
     },
     "execution_count": 60,
     "metadata": {},
     "output_type": "execute_result"
    }
   ],
   "source": [
    "type(iris)"
   ]
  },
  {
   "cell_type": "code",
   "execution_count": 76,
   "metadata": {},
   "outputs": [
    {
     "ename": "AttributeError",
     "evalue": "'DataFrame' object has no attribute 'clusters'",
     "output_type": "error",
     "traceback": [
      "\u001b[1;31m---------------------------------------------------------------------------\u001b[0m",
      "\u001b[1;31mAttributeError\u001b[0m                            Traceback (most recent call last)",
      "\u001b[1;32m<ipython-input-76-737f33cd36f6>\u001b[0m in \u001b[0;36m<module>\u001b[1;34m\u001b[0m\n\u001b[1;32m----> 1\u001b[1;33m \u001b[0mdf1\u001b[0m\u001b[1;33m=\u001b[0m\u001b[0miris\u001b[0m\u001b[1;33m[\u001b[0m\u001b[0miris\u001b[0m\u001b[1;33m.\u001b[0m\u001b[0mclusters\u001b[0m\u001b[1;33m]\u001b[0m\u001b[1;33m\u001b[0m\u001b[1;33m\u001b[0m\u001b[0m\n\u001b[0m\u001b[0;32m      2\u001b[0m \u001b[0mdf2\u001b[0m\u001b[1;33m=\u001b[0m\u001b[0miris\u001b[0m\u001b[1;33m[\u001b[0m\u001b[0miris\u001b[0m\u001b[1;33m.\u001b[0m\u001b[0mclusters\u001b[0m\u001b[1;33m==\u001b[0m\u001b[1;36m1\u001b[0m\u001b[1;33m]\u001b[0m\u001b[1;33m\u001b[0m\u001b[1;33m\u001b[0m\u001b[0m\n\u001b[0;32m      3\u001b[0m \u001b[0mdf3\u001b[0m\u001b[1;33m=\u001b[0m\u001b[0miris\u001b[0m\u001b[1;33m[\u001b[0m\u001b[0miris\u001b[0m\u001b[1;33m.\u001b[0m\u001b[0mclusters\u001b[0m\u001b[1;33m==\u001b[0m\u001b[1;36m2\u001b[0m\u001b[1;33m]\u001b[0m\u001b[1;33m\u001b[0m\u001b[1;33m\u001b[0m\u001b[0m\n\u001b[0;32m      4\u001b[0m \u001b[1;33m\u001b[0m\u001b[0m\n\u001b[0;32m      5\u001b[0m \u001b[0mplt\u001b[0m\u001b[1;33m.\u001b[0m\u001b[0mscatter\u001b[0m\u001b[1;33m(\u001b[0m\u001b[0mdf1\u001b[0m\u001b[1;33m,\u001b[0m\u001b[0mcolor\u001b[0m\u001b[1;33m=\u001b[0m\u001b[1;34m'red'\u001b[0m\u001b[1;33m)\u001b[0m\u001b[1;33m\u001b[0m\u001b[1;33m\u001b[0m\u001b[0m\n",
      "\u001b[1;32mC:\\ProgramData\\Anaconda3\\lib\\site-packages\\pandas\\core\\generic.py\u001b[0m in \u001b[0;36m__getattr__\u001b[1;34m(self, name)\u001b[0m\n\u001b[0;32m   5137\u001b[0m             \u001b[1;32mif\u001b[0m \u001b[0mself\u001b[0m\u001b[1;33m.\u001b[0m\u001b[0m_info_axis\u001b[0m\u001b[1;33m.\u001b[0m\u001b[0m_can_hold_identifiers_and_holds_name\u001b[0m\u001b[1;33m(\u001b[0m\u001b[0mname\u001b[0m\u001b[1;33m)\u001b[0m\u001b[1;33m:\u001b[0m\u001b[1;33m\u001b[0m\u001b[1;33m\u001b[0m\u001b[0m\n\u001b[0;32m   5138\u001b[0m                 \u001b[1;32mreturn\u001b[0m \u001b[0mself\u001b[0m\u001b[1;33m[\u001b[0m\u001b[0mname\u001b[0m\u001b[1;33m]\u001b[0m\u001b[1;33m\u001b[0m\u001b[1;33m\u001b[0m\u001b[0m\n\u001b[1;32m-> 5139\u001b[1;33m             \u001b[1;32mreturn\u001b[0m \u001b[0mobject\u001b[0m\u001b[1;33m.\u001b[0m\u001b[0m__getattribute__\u001b[0m\u001b[1;33m(\u001b[0m\u001b[0mself\u001b[0m\u001b[1;33m,\u001b[0m \u001b[0mname\u001b[0m\u001b[1;33m)\u001b[0m\u001b[1;33m\u001b[0m\u001b[1;33m\u001b[0m\u001b[0m\n\u001b[0m\u001b[0;32m   5140\u001b[0m \u001b[1;33m\u001b[0m\u001b[0m\n\u001b[0;32m   5141\u001b[0m     \u001b[1;32mdef\u001b[0m \u001b[0m__setattr__\u001b[0m\u001b[1;33m(\u001b[0m\u001b[0mself\u001b[0m\u001b[1;33m,\u001b[0m \u001b[0mname\u001b[0m\u001b[1;33m:\u001b[0m \u001b[0mstr\u001b[0m\u001b[1;33m,\u001b[0m \u001b[0mvalue\u001b[0m\u001b[1;33m)\u001b[0m \u001b[1;33m->\u001b[0m \u001b[1;32mNone\u001b[0m\u001b[1;33m:\u001b[0m\u001b[1;33m\u001b[0m\u001b[1;33m\u001b[0m\u001b[0m\n",
      "\u001b[1;31mAttributeError\u001b[0m: 'DataFrame' object has no attribute 'clusters'"
     ]
    }
   ],
   "source": [
    "df1=iris[iris.clusters]\n",
    "df2=iris[iris.clusters==1]\n",
    "df3=iris[iris.clusters==2]\n",
    "\n",
    "plt.scatter(df1,color='red')\n",
    "plt.scatter(df2,color='blue')\n",
    "plt.scatter(df3,color='green')\n",
    "plt.scatter(x_centroid,y_centroid,color='Brown',marker='+')"
   ]
  },
  {
   "cell_type": "code",
   "execution_count": 59,
   "metadata": {},
   "outputs": [
    {
     "ename": "TypeError",
     "evalue": "unhashable type: 'numpy.ndarray'",
     "output_type": "error",
     "traceback": [
      "\u001b[1;31m---------------------------------------------------------------------------\u001b[0m",
      "\u001b[1;31mTypeError\u001b[0m                                 Traceback (most recent call last)",
      "\u001b[1;32m<ipython-input-59-713eafc57cae>\u001b[0m in \u001b[0;36m<module>\u001b[1;34m\u001b[0m\n\u001b[1;32m----> 1\u001b[1;33m \u001b[0miris\u001b[0m\u001b[1;33m[\u001b[0m\u001b[0miris\u001b[0m\u001b[1;33m.\u001b[0m\u001b[0mclusters\u001b[0m\u001b[1;33m==\u001b[0m\u001b[1;36m0\u001b[0m\u001b[1;33m]\u001b[0m\u001b[1;33m\u001b[0m\u001b[1;33m\u001b[0m\u001b[0m\n\u001b[0m",
      "\u001b[1;31mTypeError\u001b[0m: unhashable type: 'numpy.ndarray'"
     ]
    }
   ],
   "source": [
    "iris[iris.clusters==0]"
   ]
  },
  {
   "cell_type": "code",
   "execution_count": 75,
   "metadata": {},
   "outputs": [
    {
     "ename": "TypeError",
     "evalue": "'(array([False, False, False, False, False, False, False, False, False,\n       False, False, False, False, False, False, False, False, False,\n       False, False, False, False, False, False, False, False, False,\n       False, False, False, False, False, False, False, False, False,\n       False, False, False, False, False, False, False, False, False,\n       False, False, False, False, False, False, False,  True, False,\n       False, False, False, False, False, False, False, False, False,\n       False, False, False, False, False, False, False, False, False,\n       False, False, False, False, False,  True, False, False, False,\n       False, False, False, False, False, False, False, False, False,\n       False, False, False, False, False, False, False, False, False,\n       False,  True, False,  True,  True,  True,  True, False,  True,\n        True,  True,  True,  True,  True, False, False,  True,  True,\n        True,  True, False,  True, False,  True, False,  True,  True,\n       False, False,  True,  True,  True,  True,  True, False,  True,\n        True,  True,  True, False,  True,  True,  True, False,  True,\n        True,  True, False,  True,  True, False]), 0)' is an invalid key",
     "output_type": "error",
     "traceback": [
      "\u001b[1;31m---------------------------------------------------------------------------\u001b[0m",
      "\u001b[1;31mTypeError\u001b[0m                                 Traceback (most recent call last)",
      "\u001b[1;32m<ipython-input-75-55202a95186a>\u001b[0m in \u001b[0;36m<module>\u001b[1;34m\u001b[0m\n\u001b[1;32m----> 1\u001b[1;33m \u001b[0mplt\u001b[0m\u001b[1;33m.\u001b[0m\u001b[0mscatter\u001b[0m\u001b[1;33m(\u001b[0m\u001b[0miris_df\u001b[0m\u001b[1;33m[\u001b[0m\u001b[0my_kmeans\u001b[0m   \u001b[1;33m==\u001b[0m \u001b[1;36m0\u001b[0m\u001b[1;33m,\u001b[0m \u001b[1;36m0\u001b[0m\u001b[1;33m]\u001b[0m\u001b[1;33m,\u001b[0m \u001b[0miris_df\u001b[0m\u001b[1;33m[\u001b[0m\u001b[0my_kmeans\u001b[0m \u001b[1;33m==\u001b[0m \u001b[1;36m0\u001b[0m\u001b[1;33m,\u001b[0m \u001b[1;36m1\u001b[0m\u001b[1;33m]\u001b[0m\u001b[1;33m,\u001b[0m\u001b[0ms\u001b[0m \u001b[1;33m=\u001b[0m \u001b[1;36m100\u001b[0m\u001b[1;33m,\u001b[0m \u001b[0mc\u001b[0m \u001b[1;33m=\u001b[0m \u001b[1;34m'red'\u001b[0m\u001b[1;33m,\u001b[0m \u001b[0mlabel\u001b[0m \u001b[1;33m=\u001b[0m \u001b[1;34m'Iris-setosa'\u001b[0m\u001b[1;33m)\u001b[0m\u001b[1;33m\u001b[0m\u001b[1;33m\u001b[0m\u001b[0m\n\u001b[0m",
      "\u001b[1;32mC:\\ProgramData\\Anaconda3\\lib\\site-packages\\pandas\\core\\frame.py\u001b[0m in \u001b[0;36m__getitem__\u001b[1;34m(self, key)\u001b[0m\n\u001b[0;32m   2900\u001b[0m             \u001b[1;32mif\u001b[0m \u001b[0mself\u001b[0m\u001b[1;33m.\u001b[0m\u001b[0mcolumns\u001b[0m\u001b[1;33m.\u001b[0m\u001b[0mnlevels\u001b[0m \u001b[1;33m>\u001b[0m \u001b[1;36m1\u001b[0m\u001b[1;33m:\u001b[0m\u001b[1;33m\u001b[0m\u001b[1;33m\u001b[0m\u001b[0m\n\u001b[0;32m   2901\u001b[0m                 \u001b[1;32mreturn\u001b[0m \u001b[0mself\u001b[0m\u001b[1;33m.\u001b[0m\u001b[0m_getitem_multilevel\u001b[0m\u001b[1;33m(\u001b[0m\u001b[0mkey\u001b[0m\u001b[1;33m)\u001b[0m\u001b[1;33m\u001b[0m\u001b[1;33m\u001b[0m\u001b[0m\n\u001b[1;32m-> 2902\u001b[1;33m             \u001b[0mindexer\u001b[0m \u001b[1;33m=\u001b[0m \u001b[0mself\u001b[0m\u001b[1;33m.\u001b[0m\u001b[0mcolumns\u001b[0m\u001b[1;33m.\u001b[0m\u001b[0mget_loc\u001b[0m\u001b[1;33m(\u001b[0m\u001b[0mkey\u001b[0m\u001b[1;33m)\u001b[0m\u001b[1;33m\u001b[0m\u001b[1;33m\u001b[0m\u001b[0m\n\u001b[0m\u001b[0;32m   2903\u001b[0m             \u001b[1;32mif\u001b[0m \u001b[0mis_integer\u001b[0m\u001b[1;33m(\u001b[0m\u001b[0mindexer\u001b[0m\u001b[1;33m)\u001b[0m\u001b[1;33m:\u001b[0m\u001b[1;33m\u001b[0m\u001b[1;33m\u001b[0m\u001b[0m\n\u001b[0;32m   2904\u001b[0m                 \u001b[0mindexer\u001b[0m \u001b[1;33m=\u001b[0m \u001b[1;33m[\u001b[0m\u001b[0mindexer\u001b[0m\u001b[1;33m]\u001b[0m\u001b[1;33m\u001b[0m\u001b[1;33m\u001b[0m\u001b[0m\n",
      "\u001b[1;32mC:\\ProgramData\\Anaconda3\\lib\\site-packages\\pandas\\core\\indexes\\base.py\u001b[0m in \u001b[0;36mget_loc\u001b[1;34m(self, key, method, tolerance)\u001b[0m\n\u001b[0;32m   2893\u001b[0m             \u001b[0mcasted_key\u001b[0m \u001b[1;33m=\u001b[0m \u001b[0mself\u001b[0m\u001b[1;33m.\u001b[0m\u001b[0m_maybe_cast_indexer\u001b[0m\u001b[1;33m(\u001b[0m\u001b[0mkey\u001b[0m\u001b[1;33m)\u001b[0m\u001b[1;33m\u001b[0m\u001b[1;33m\u001b[0m\u001b[0m\n\u001b[0;32m   2894\u001b[0m             \u001b[1;32mtry\u001b[0m\u001b[1;33m:\u001b[0m\u001b[1;33m\u001b[0m\u001b[1;33m\u001b[0m\u001b[0m\n\u001b[1;32m-> 2895\u001b[1;33m                 \u001b[1;32mreturn\u001b[0m \u001b[0mself\u001b[0m\u001b[1;33m.\u001b[0m\u001b[0m_engine\u001b[0m\u001b[1;33m.\u001b[0m\u001b[0mget_loc\u001b[0m\u001b[1;33m(\u001b[0m\u001b[0mcasted_key\u001b[0m\u001b[1;33m)\u001b[0m\u001b[1;33m\u001b[0m\u001b[1;33m\u001b[0m\u001b[0m\n\u001b[0m\u001b[0;32m   2896\u001b[0m             \u001b[1;32mexcept\u001b[0m \u001b[0mKeyError\u001b[0m \u001b[1;32mas\u001b[0m \u001b[0merr\u001b[0m\u001b[1;33m:\u001b[0m\u001b[1;33m\u001b[0m\u001b[1;33m\u001b[0m\u001b[0m\n\u001b[0;32m   2897\u001b[0m                 \u001b[1;32mraise\u001b[0m \u001b[0mKeyError\u001b[0m\u001b[1;33m(\u001b[0m\u001b[0mkey\u001b[0m\u001b[1;33m)\u001b[0m \u001b[1;32mfrom\u001b[0m \u001b[0merr\u001b[0m\u001b[1;33m\u001b[0m\u001b[1;33m\u001b[0m\u001b[0m\n",
      "\u001b[1;32mpandas\\_libs\\index.pyx\u001b[0m in \u001b[0;36mpandas._libs.index.IndexEngine.get_loc\u001b[1;34m()\u001b[0m\n",
      "\u001b[1;32mpandas\\_libs\\index.pyx\u001b[0m in \u001b[0;36mpandas._libs.index.IndexEngine.get_loc\u001b[1;34m()\u001b[0m\n",
      "\u001b[1;31mTypeError\u001b[0m: '(array([False, False, False, False, False, False, False, False, False,\n       False, False, False, False, False, False, False, False, False,\n       False, False, False, False, False, False, False, False, False,\n       False, False, False, False, False, False, False, False, False,\n       False, False, False, False, False, False, False, False, False,\n       False, False, False, False, False, False, False,  True, False,\n       False, False, False, False, False, False, False, False, False,\n       False, False, False, False, False, False, False, False, False,\n       False, False, False, False, False,  True, False, False, False,\n       False, False, False, False, False, False, False, False, False,\n       False, False, False, False, False, False, False, False, False,\n       False,  True, False,  True,  True,  True,  True, False,  True,\n        True,  True,  True,  True,  True, False, False,  True,  True,\n        True,  True, False,  True, False,  True, False,  True,  True,\n       False, False,  True,  True,  True,  True,  True, False,  True,\n        True,  True,  True, False,  True,  True,  True, False,  True,\n        True,  True, False,  True,  True, False]), 0)' is an invalid key"
     ]
    }
   ],
   "source": [
    "plt.scatter(iris_df[y_kmeans   == 0, 0], iris_df[y_kmeans == 0, 1],s = 100, c = 'red', label = 'Iris-setosa')\n"
   ]
  },
  {
   "cell_type": "code",
   "execution_count": 122,
   "metadata": {},
   "outputs": [],
   "source": [
    "x_centroid=kmeans.cluster_centers_[:1]\n",
    "y_centroid=kmeans.cluster_centers_[2:]"
   ]
  },
  {
   "cell_type": "code",
   "execution_count": 123,
   "metadata": {},
   "outputs": [
    {
     "data": {
      "text/plain": [
       "array([[5.9016129 , 2.7483871 , 4.39354839, 1.43387097]])"
      ]
     },
     "execution_count": 123,
     "metadata": {},
     "output_type": "execute_result"
    }
   ],
   "source": [
    "y_centroid"
   ]
  },
  {
   "cell_type": "code",
   "execution_count": 125,
   "metadata": {},
   "outputs": [
    {
     "data": {
      "text/plain": [
       "<matplotlib.collections.PathCollection at 0x22b8140fbe0>"
      ]
     },
     "execution_count": 125,
     "metadata": {},
     "output_type": "execute_result"
    },
    {
     "data": {
      "image/png": "[encoded data removed]",
      "text/plain": [
       "<Figure size 432x288 with 1 Axes>"
      ]
     },
     "metadata": {
      "needs_background": "light"
     },
     "output_type": "display_data"
    }
   ],
   "source": [
    "plt.scatter(iris_df['sepal length (cm)'],iris_df['sepal width (cm)'])\n",
    "# plt.scatter(x_centroid,y_centroid)"
   ]
  },
  {
   "cell_type": "code",
   "execution_count": 80,
   "metadata": {},
   "outputs": [
    {
     "data": {
      "text/plain": [
       "<bound method NDFrame.describe of      sepal length (cm)  sepal width (cm)  petal length (cm)  petal width (cm)\n",
       "0                  5.1               3.5                1.4               0.2\n",
       "1                  4.9               3.0                1.4               0.2\n",
       "2                  4.7               3.2                1.3               0.2\n",
       "3                  4.6               3.1                1.5               0.2\n",
       "4                  5.0               3.6                1.4               0.2\n",
       "..                 ...               ...                ...               ...\n",
       "145                6.7               3.0                5.2               2.3\n",
       "146                6.3               2.5                5.0               1.9\n",
       "147                6.5               3.0                5.2               2.0\n",
       "148                6.2               3.4                5.4               2.3\n",
       "149                5.9               3.0                5.1               1.8\n",
       "\n",
       "[150 rows x 4 columns]>"
      ]
     },
     "execution_count": 80,
     "metadata": {},
     "output_type": "execute_result"
    }
   ],
   "source": [
    "iris_df.describe"
   ]
  },
  {
   "cell_type": "code",
   "execution_count": 102,
   "metadata": {},
   "outputs": [
    {
     "data": {
      "text/plain": [
       "0      5.1\n",
       "1      4.9\n",
       "2      4.7\n",
       "3      4.6\n",
       "4      5.0\n",
       "      ... \n",
       "145    6.7\n",
       "146    6.3\n",
       "147    6.5\n",
       "148    6.2\n",
       "149    5.9\n",
       "Name: sepal length (cm), Length: 150, dtype: float64"
      ]
     },
     "execution_count": 102,
     "metadata": {},
     "output_type": "execute_result"
    }
   ],
   "source": [
    "iris_df['sepal length (cm)']"
   ]
  },
  {
   "cell_type": "code",
   "execution_count": null,
   "metadata": {},
   "outputs": [],
   "source": []
  }
 ],
 "metadata": {
  "colab": {
   "collapsed_sections": [],
   "name": "MLCSS344seventh.ipynb",
   "provenance": []
  },
  "kernelspec": {
   "display_name": "Python 3",
   "language": "python",
   "name": "python3"
  },
  "language_info": {
   "codemirror_mode": {
    "name": "ipython",
    "version": 3
   },
   "file_extension": ".py",
   "mimetype": "text/x-python",
   "name": "python",
   "nbconvert_exporter": "python",
   "pygments_lexer": "ipython3",
   "version": "3.8.5"
  }
 },
 "nbformat": 4,
 "nbformat_minor": 1
}
